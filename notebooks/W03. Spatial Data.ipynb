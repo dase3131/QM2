{
  "cells": [
    {
      "cell_type": "markdown",
      "metadata": {
        "id": "view-in-github",
        "colab_type": "text"
      },
      "source": [
        "<a href=\"https://colab.research.google.com/github/dase3131/QM2/blob/main/notebooks/W03.%20Spatial%20Data.ipynb\" target=\"_parent\"><img src=\"https://colab.research.google.com/assets/colab-badge.svg\" alt=\"Open In Colab\"/></a>"
      ]
    },
    {
      "cell_type": "markdown",
      "metadata": {
        "id": "jPWQcV1rUG5R"
      },
      "source": [
        "# Spatiotemporal Data\n",
        "\n",
        "## *Workshop 3*  [![Open In Colab](https://github.com/oballinger/QM2/blob/main/colab-badge.png?raw=1)](https://colab.research.google.com/github/oballinger/QM2/blob/main/notebooks/W03.%20Spatial%20Data.ipynb)\n"
      ]
    },
    {
      "cell_type": "markdown",
      "metadata": {
        "id": "9Dq7jf9TUWEp"
      },
      "source": [
        "Sometimes the data we work with references points on the earth's surface, unlocking a rich set of analytical possibilities. In today's workshop, we're going to be exploring the effect of the 2020 California Wildfires on air quality across the state. We'll be using real air quality data collected by sensors and combining it with satellite imagery to show how toxic smoke from wildfires swept over America's largest state.\n",
        "\n",
        "### Aims\n",
        "- Understanding spatiotemporal data\n",
        "- Grouping data in pandas\n",
        "- Manipulating and plotting geographic data\n",
        "\n",
        "\n",
        "## Background\n",
        "\n",
        "![](https://image.cnbcfm.com/api/v1/image/106695701-1599664926959-gettyimages-1228423382-AFP_8PL8JF.jpeg?v=1599664969)\n",
        "\n",
        "The [2020 California wildfire season](https://en.wikipedia.org/wiki/2020_California_wildfires) was record-setting. By the end of the year, 9,917 fires had burned more than 4% of the state's area, making 2020 the largest wildfire season recorded in California's modern history. California's August Complex fire has been described as the first \"gigafire\", burning over 1 million acres across seven counties, an area larger than the state of Rhode Island. The fires destroyed over 10,000 structures and cost over \\$12.079 billion (2020 USD) in damages, including over \\$10 billion in property damage and \\$2.079 billion in fire suppression costs. The intensity of the fire season has been attributed to a combination of more than a century of poor forest management and higher temperatures resulting from climate change.\n",
        "\n",
        "The fires also had a [profound effect on air quality](https://epic.uchicago.edu/news/pollution-from-californias-2020-wildfires-likely-offset-decades-of-air-quality-gains/): “Places that are experiencing frequent or more frequent wildfires are going to experience higher air pollution levels, not just for a couple of days or weeks, but it could impact the annual level of exposure,” said Christa Hasenkopf, director of air quality programs at the University of Chicago institute. “It can bump up that average to unsafe and unhealthy levels that really do have an impact on people’s health. When we think of wildfires, we think of short-term events — and hopefully they are — but they can have long-term consequences considering your overall air pollution exposure.”\n",
        "\n",
        "\n",
        "## Getting Started\n",
        "\n",
        "Let's begin by installing some libraries that we'll be working with today."
      ]
    },
    {
      "cell_type": "code",
      "execution_count": 1,
      "metadata": {
        "id": "alY6eayO1uAY"
      },
      "outputs": [],
      "source": [
        "%%capture\n",
        "!pip install Basemap\n",
        "!pip install ipyleaflet"
      ]
    },
    {
      "cell_type": "markdown",
      "metadata": {
        "id": "mUe0JJqBV3VO"
      },
      "source": [
        "## Importing Libraries\n",
        "\n",
        "The first step in any python script is to import the necessary libraries:"
      ]
    },
    {
      "cell_type": "code",
      "execution_count": 2,
      "metadata": {
        "id": "DArwH58V12Pu"
      },
      "outputs": [],
      "source": [
        "import pandas as pd\n",
        "import matplotlib\n",
        "import matplotlib.pyplot as plt\n",
        "import numpy as np\n",
        "import pylab\n",
        "from datetime import datetime\n",
        "\n",
        "%matplotlib inline\n",
        "pylab.rcParams['figure.figsize'] = (10, 8)"
      ]
    },
    {
      "cell_type": "markdown",
      "metadata": {
        "id": "M2hLyKoeV665"
      },
      "source": [
        "## Downloading Data\n",
        "\n",
        "The next step is to import the data that we need for our analysis. This week we'll be using real data collected in 2020 by the [Environmental Protection Agency (EPA)](https://www.epa.gov/outdoor-air-quality-data/download-daily-data). I've generated a .csv file containing the data that I want using the dropdown menus. The EPA also has an [Application Programming Interface](https://aqs.epa.gov/aqsweb/documents/data_api.html) for air quality data, which you could use to pull in data directly into python without having to download a .csv!"
      ]
    },
    {
      "cell_type": "markdown",
      "metadata": {
        "id": "yGrsndD29TKJ"
      },
      "source": [
        "Let's open the .csv file and have a look at it:"
      ]
    },
    {
      "cell_type": "code",
      "execution_count": 6,
      "metadata": {
        "colab": {
          "base_uri": "https://localhost:8080/",
          "height": 424
        },
        "id": "J6mmeCMO-Rsz",
        "outputId": "5f06cb39-8864-4f6e-c42c-fb033b1e2ae1"
      },
      "outputs": [
        {
          "output_type": "execute_result",
          "data": {
            "text/plain": [
              "           Date   Site ID  POC    PM  AQI             Site Name  \\\n",
              "0        1/1/20  60010007    3   8.6   36             Livermore   \n",
              "1        1/2/20  60010007    3   4.5   19             Livermore   \n",
              "2        1/3/20  60010007    3  14.2   55             Livermore   \n",
              "3        1/4/20  60010007    3  10.9   45             Livermore   \n",
              "4        1/5/20  60010007    3   7.8   33             Livermore   \n",
              "...         ...       ...  ...   ...  ...                   ...   \n",
              "55686  11/29/20  61131003    1  20.3   68  Woodland-Gibson Road   \n",
              "55687  12/18/20  61131003    1   2.8   12  Woodland-Gibson Road   \n",
              "55688  12/20/20  61131003    1  22.4   73  Woodland-Gibson Road   \n",
              "55689  12/23/20  61131003    1  11.8   49  Woodland-Gibson Road   \n",
              "55690  12/29/20  61131003    1   5.6   23  Woodland-Gibson Road   \n",
              "\n",
              "                                     CBSA_NAME   COUNTY   latitude   longitude  \n",
              "0            San Francisco-Oakland-Hayward, CA  Alameda  37.687526 -121.784217  \n",
              "1            San Francisco-Oakland-Hayward, CA  Alameda  37.687526 -121.784217  \n",
              "2            San Francisco-Oakland-Hayward, CA  Alameda  37.687526 -121.784217  \n",
              "3            San Francisco-Oakland-Hayward, CA  Alameda  37.687526 -121.784217  \n",
              "4            San Francisco-Oakland-Hayward, CA  Alameda  37.687526 -121.784217  \n",
              "...                                        ...      ...        ...         ...  \n",
              "55686  Sacramento--Roseville--Arden-Arcade, CA     Yolo  38.661210 -121.732690  \n",
              "55687  Sacramento--Roseville--Arden-Arcade, CA     Yolo  38.661210 -121.732690  \n",
              "55688  Sacramento--Roseville--Arden-Arcade, CA     Yolo  38.661210 -121.732690  \n",
              "55689  Sacramento--Roseville--Arden-Arcade, CA     Yolo  38.661210 -121.732690  \n",
              "55690  Sacramento--Roseville--Arden-Arcade, CA     Yolo  38.661210 -121.732690  \n",
              "\n",
              "[55691 rows x 10 columns]"
            ],
            "text/html": [
              "\n",
              "  <div id=\"df-3f1476f4-5c23-4201-a734-f480d95099b0\" class=\"colab-df-container\">\n",
              "    <div>\n",
              "<style scoped>\n",
              "    .dataframe tbody tr th:only-of-type {\n",
              "        vertical-align: middle;\n",
              "    }\n",
              "\n",
              "    .dataframe tbody tr th {\n",
              "        vertical-align: top;\n",
              "    }\n",
              "\n",
              "    .dataframe thead th {\n",
              "        text-align: right;\n",
              "    }\n",
              "</style>\n",
              "<table border=\"1\" class=\"dataframe\">\n",
              "  <thead>\n",
              "    <tr style=\"text-align: right;\">\n",
              "      <th></th>\n",
              "      <th>Date</th>\n",
              "      <th>Site ID</th>\n",
              "      <th>POC</th>\n",
              "      <th>PM</th>\n",
              "      <th>AQI</th>\n",
              "      <th>Site Name</th>\n",
              "      <th>CBSA_NAME</th>\n",
              "      <th>COUNTY</th>\n",
              "      <th>latitude</th>\n",
              "      <th>longitude</th>\n",
              "    </tr>\n",
              "  </thead>\n",
              "  <tbody>\n",
              "    <tr>\n",
              "      <th>0</th>\n",
              "      <td>1/1/20</td>\n",
              "      <td>60010007</td>\n",
              "      <td>3</td>\n",
              "      <td>8.6</td>\n",
              "      <td>36</td>\n",
              "      <td>Livermore</td>\n",
              "      <td>San Francisco-Oakland-Hayward, CA</td>\n",
              "      <td>Alameda</td>\n",
              "      <td>37.687526</td>\n",
              "      <td>-121.784217</td>\n",
              "    </tr>\n",
              "    <tr>\n",
              "      <th>1</th>\n",
              "      <td>1/2/20</td>\n",
              "      <td>60010007</td>\n",
              "      <td>3</td>\n",
              "      <td>4.5</td>\n",
              "      <td>19</td>\n",
              "      <td>Livermore</td>\n",
              "      <td>San Francisco-Oakland-Hayward, CA</td>\n",
              "      <td>Alameda</td>\n",
              "      <td>37.687526</td>\n",
              "      <td>-121.784217</td>\n",
              "    </tr>\n",
              "    <tr>\n",
              "      <th>2</th>\n",
              "      <td>1/3/20</td>\n",
              "      <td>60010007</td>\n",
              "      <td>3</td>\n",
              "      <td>14.2</td>\n",
              "      <td>55</td>\n",
              "      <td>Livermore</td>\n",
              "      <td>San Francisco-Oakland-Hayward, CA</td>\n",
              "      <td>Alameda</td>\n",
              "      <td>37.687526</td>\n",
              "      <td>-121.784217</td>\n",
              "    </tr>\n",
              "    <tr>\n",
              "      <th>3</th>\n",
              "      <td>1/4/20</td>\n",
              "      <td>60010007</td>\n",
              "      <td>3</td>\n",
              "      <td>10.9</td>\n",
              "      <td>45</td>\n",
              "      <td>Livermore</td>\n",
              "      <td>San Francisco-Oakland-Hayward, CA</td>\n",
              "      <td>Alameda</td>\n",
              "      <td>37.687526</td>\n",
              "      <td>-121.784217</td>\n",
              "    </tr>\n",
              "    <tr>\n",
              "      <th>4</th>\n",
              "      <td>1/5/20</td>\n",
              "      <td>60010007</td>\n",
              "      <td>3</td>\n",
              "      <td>7.8</td>\n",
              "      <td>33</td>\n",
              "      <td>Livermore</td>\n",
              "      <td>San Francisco-Oakland-Hayward, CA</td>\n",
              "      <td>Alameda</td>\n",
              "      <td>37.687526</td>\n",
              "      <td>-121.784217</td>\n",
              "    </tr>\n",
              "    <tr>\n",
              "      <th>...</th>\n",
              "      <td>...</td>\n",
              "      <td>...</td>\n",
              "      <td>...</td>\n",
              "      <td>...</td>\n",
              "      <td>...</td>\n",
              "      <td>...</td>\n",
              "      <td>...</td>\n",
              "      <td>...</td>\n",
              "      <td>...</td>\n",
              "      <td>...</td>\n",
              "    </tr>\n",
              "    <tr>\n",
              "      <th>55686</th>\n",
              "      <td>11/29/20</td>\n",
              "      <td>61131003</td>\n",
              "      <td>1</td>\n",
              "      <td>20.3</td>\n",
              "      <td>68</td>\n",
              "      <td>Woodland-Gibson Road</td>\n",
              "      <td>Sacramento--Roseville--Arden-Arcade, CA</td>\n",
              "      <td>Yolo</td>\n",
              "      <td>38.661210</td>\n",
              "      <td>-121.732690</td>\n",
              "    </tr>\n",
              "    <tr>\n",
              "      <th>55687</th>\n",
              "      <td>12/18/20</td>\n",
              "      <td>61131003</td>\n",
              "      <td>1</td>\n",
              "      <td>2.8</td>\n",
              "      <td>12</td>\n",
              "      <td>Woodland-Gibson Road</td>\n",
              "      <td>Sacramento--Roseville--Arden-Arcade, CA</td>\n",
              "      <td>Yolo</td>\n",
              "      <td>38.661210</td>\n",
              "      <td>-121.732690</td>\n",
              "    </tr>\n",
              "    <tr>\n",
              "      <th>55688</th>\n",
              "      <td>12/20/20</td>\n",
              "      <td>61131003</td>\n",
              "      <td>1</td>\n",
              "      <td>22.4</td>\n",
              "      <td>73</td>\n",
              "      <td>Woodland-Gibson Road</td>\n",
              "      <td>Sacramento--Roseville--Arden-Arcade, CA</td>\n",
              "      <td>Yolo</td>\n",
              "      <td>38.661210</td>\n",
              "      <td>-121.732690</td>\n",
              "    </tr>\n",
              "    <tr>\n",
              "      <th>55689</th>\n",
              "      <td>12/23/20</td>\n",
              "      <td>61131003</td>\n",
              "      <td>1</td>\n",
              "      <td>11.8</td>\n",
              "      <td>49</td>\n",
              "      <td>Woodland-Gibson Road</td>\n",
              "      <td>Sacramento--Roseville--Arden-Arcade, CA</td>\n",
              "      <td>Yolo</td>\n",
              "      <td>38.661210</td>\n",
              "      <td>-121.732690</td>\n",
              "    </tr>\n",
              "    <tr>\n",
              "      <th>55690</th>\n",
              "      <td>12/29/20</td>\n",
              "      <td>61131003</td>\n",
              "      <td>1</td>\n",
              "      <td>5.6</td>\n",
              "      <td>23</td>\n",
              "      <td>Woodland-Gibson Road</td>\n",
              "      <td>Sacramento--Roseville--Arden-Arcade, CA</td>\n",
              "      <td>Yolo</td>\n",
              "      <td>38.661210</td>\n",
              "      <td>-121.732690</td>\n",
              "    </tr>\n",
              "  </tbody>\n",
              "</table>\n",
              "<p>55691 rows × 10 columns</p>\n",
              "</div>\n",
              "    <div class=\"colab-df-buttons\">\n",
              "\n",
              "  <div class=\"colab-df-container\">\n",
              "    <button class=\"colab-df-convert\" onclick=\"convertToInteractive('df-3f1476f4-5c23-4201-a734-f480d95099b0')\"\n",
              "            title=\"Convert this dataframe to an interactive table.\"\n",
              "            style=\"display:none;\">\n",
              "\n",
              "  <svg xmlns=\"http://www.w3.org/2000/svg\" height=\"24px\" viewBox=\"0 -960 960 960\">\n",
              "    <path d=\"M120-120v-720h720v720H120Zm60-500h600v-160H180v160Zm220 220h160v-160H400v160Zm0 220h160v-160H400v160ZM180-400h160v-160H180v160Zm440 0h160v-160H620v160ZM180-180h160v-160H180v160Zm440 0h160v-160H620v160Z\"/>\n",
              "  </svg>\n",
              "    </button>\n",
              "\n",
              "  <style>\n",
              "    .colab-df-container {\n",
              "      display:flex;\n",
              "      gap: 12px;\n",
              "    }\n",
              "\n",
              "    .colab-df-convert {\n",
              "      background-color: #E8F0FE;\n",
              "      border: none;\n",
              "      border-radius: 50%;\n",
              "      cursor: pointer;\n",
              "      display: none;\n",
              "      fill: #1967D2;\n",
              "      height: 32px;\n",
              "      padding: 0 0 0 0;\n",
              "      width: 32px;\n",
              "    }\n",
              "\n",
              "    .colab-df-convert:hover {\n",
              "      background-color: #E2EBFA;\n",
              "      box-shadow: 0px 1px 2px rgba(60, 64, 67, 0.3), 0px 1px 3px 1px rgba(60, 64, 67, 0.15);\n",
              "      fill: #174EA6;\n",
              "    }\n",
              "\n",
              "    .colab-df-buttons div {\n",
              "      margin-bottom: 4px;\n",
              "    }\n",
              "\n",
              "    [theme=dark] .colab-df-convert {\n",
              "      background-color: #3B4455;\n",
              "      fill: #D2E3FC;\n",
              "    }\n",
              "\n",
              "    [theme=dark] .colab-df-convert:hover {\n",
              "      background-color: #434B5C;\n",
              "      box-shadow: 0px 1px 3px 1px rgba(0, 0, 0, 0.15);\n",
              "      filter: drop-shadow(0px 1px 2px rgba(0, 0, 0, 0.3));\n",
              "      fill: #FFFFFF;\n",
              "    }\n",
              "  </style>\n",
              "\n",
              "    <script>\n",
              "      const buttonEl =\n",
              "        document.querySelector('#df-3f1476f4-5c23-4201-a734-f480d95099b0 button.colab-df-convert');\n",
              "      buttonEl.style.display =\n",
              "        google.colab.kernel.accessAllowed ? 'block' : 'none';\n",
              "\n",
              "      async function convertToInteractive(key) {\n",
              "        const element = document.querySelector('#df-3f1476f4-5c23-4201-a734-f480d95099b0');\n",
              "        const dataTable =\n",
              "          await google.colab.kernel.invokeFunction('convertToInteractive',\n",
              "                                                    [key], {});\n",
              "        if (!dataTable) return;\n",
              "\n",
              "        const docLinkHtml = 'Like what you see? Visit the ' +\n",
              "          '<a target=\"_blank\" href=https://colab.research.google.com/notebooks/data_table.ipynb>data table notebook</a>'\n",
              "          + ' to learn more about interactive tables.';\n",
              "        element.innerHTML = '';\n",
              "        dataTable['output_type'] = 'display_data';\n",
              "        await google.colab.output.renderOutput(dataTable, element);\n",
              "        const docLink = document.createElement('div');\n",
              "        docLink.innerHTML = docLinkHtml;\n",
              "        element.appendChild(docLink);\n",
              "      }\n",
              "    </script>\n",
              "  </div>\n",
              "\n",
              "\n",
              "<div id=\"df-5f31e936-82c6-42a8-8994-f268722945e9\">\n",
              "  <button class=\"colab-df-quickchart\" onclick=\"quickchart('df-5f31e936-82c6-42a8-8994-f268722945e9')\"\n",
              "            title=\"Suggest charts\"\n",
              "            style=\"display:none;\">\n",
              "\n",
              "<svg xmlns=\"http://www.w3.org/2000/svg\" height=\"24px\"viewBox=\"0 0 24 24\"\n",
              "     width=\"24px\">\n",
              "    <g>\n",
              "        <path d=\"M19 3H5c-1.1 0-2 .9-2 2v14c0 1.1.9 2 2 2h14c1.1 0 2-.9 2-2V5c0-1.1-.9-2-2-2zM9 17H7v-7h2v7zm4 0h-2V7h2v10zm4 0h-2v-4h2v4z\"/>\n",
              "    </g>\n",
              "</svg>\n",
              "  </button>\n",
              "\n",
              "<style>\n",
              "  .colab-df-quickchart {\n",
              "      --bg-color: #E8F0FE;\n",
              "      --fill-color: #1967D2;\n",
              "      --hover-bg-color: #E2EBFA;\n",
              "      --hover-fill-color: #174EA6;\n",
              "      --disabled-fill-color: #AAA;\n",
              "      --disabled-bg-color: #DDD;\n",
              "  }\n",
              "\n",
              "  [theme=dark] .colab-df-quickchart {\n",
              "      --bg-color: #3B4455;\n",
              "      --fill-color: #D2E3FC;\n",
              "      --hover-bg-color: #434B5C;\n",
              "      --hover-fill-color: #FFFFFF;\n",
              "      --disabled-bg-color: #3B4455;\n",
              "      --disabled-fill-color: #666;\n",
              "  }\n",
              "\n",
              "  .colab-df-quickchart {\n",
              "    background-color: var(--bg-color);\n",
              "    border: none;\n",
              "    border-radius: 50%;\n",
              "    cursor: pointer;\n",
              "    display: none;\n",
              "    fill: var(--fill-color);\n",
              "    height: 32px;\n",
              "    padding: 0;\n",
              "    width: 32px;\n",
              "  }\n",
              "\n",
              "  .colab-df-quickchart:hover {\n",
              "    background-color: var(--hover-bg-color);\n",
              "    box-shadow: 0 1px 2px rgba(60, 64, 67, 0.3), 0 1px 3px 1px rgba(60, 64, 67, 0.15);\n",
              "    fill: var(--button-hover-fill-color);\n",
              "  }\n",
              "\n",
              "  .colab-df-quickchart-complete:disabled,\n",
              "  .colab-df-quickchart-complete:disabled:hover {\n",
              "    background-color: var(--disabled-bg-color);\n",
              "    fill: var(--disabled-fill-color);\n",
              "    box-shadow: none;\n",
              "  }\n",
              "\n",
              "  .colab-df-spinner {\n",
              "    border: 2px solid var(--fill-color);\n",
              "    border-color: transparent;\n",
              "    border-bottom-color: var(--fill-color);\n",
              "    animation:\n",
              "      spin 1s steps(1) infinite;\n",
              "  }\n",
              "\n",
              "  @keyframes spin {\n",
              "    0% {\n",
              "      border-color: transparent;\n",
              "      border-bottom-color: var(--fill-color);\n",
              "      border-left-color: var(--fill-color);\n",
              "    }\n",
              "    20% {\n",
              "      border-color: transparent;\n",
              "      border-left-color: var(--fill-color);\n",
              "      border-top-color: var(--fill-color);\n",
              "    }\n",
              "    30% {\n",
              "      border-color: transparent;\n",
              "      border-left-color: var(--fill-color);\n",
              "      border-top-color: var(--fill-color);\n",
              "      border-right-color: var(--fill-color);\n",
              "    }\n",
              "    40% {\n",
              "      border-color: transparent;\n",
              "      border-right-color: var(--fill-color);\n",
              "      border-top-color: var(--fill-color);\n",
              "    }\n",
              "    60% {\n",
              "      border-color: transparent;\n",
              "      border-right-color: var(--fill-color);\n",
              "    }\n",
              "    80% {\n",
              "      border-color: transparent;\n",
              "      border-right-color: var(--fill-color);\n",
              "      border-bottom-color: var(--fill-color);\n",
              "    }\n",
              "    90% {\n",
              "      border-color: transparent;\n",
              "      border-bottom-color: var(--fill-color);\n",
              "    }\n",
              "  }\n",
              "</style>\n",
              "\n",
              "  <script>\n",
              "    async function quickchart(key) {\n",
              "      const quickchartButtonEl =\n",
              "        document.querySelector('#' + key + ' button');\n",
              "      quickchartButtonEl.disabled = true;  // To prevent multiple clicks.\n",
              "      quickchartButtonEl.classList.add('colab-df-spinner');\n",
              "      try {\n",
              "        const charts = await google.colab.kernel.invokeFunction(\n",
              "            'suggestCharts', [key], {});\n",
              "      } catch (error) {\n",
              "        console.error('Error during call to suggestCharts:', error);\n",
              "      }\n",
              "      quickchartButtonEl.classList.remove('colab-df-spinner');\n",
              "      quickchartButtonEl.classList.add('colab-df-quickchart-complete');\n",
              "    }\n",
              "    (() => {\n",
              "      let quickchartButtonEl =\n",
              "        document.querySelector('#df-5f31e936-82c6-42a8-8994-f268722945e9 button');\n",
              "      quickchartButtonEl.style.display =\n",
              "        google.colab.kernel.accessAllowed ? 'block' : 'none';\n",
              "    })();\n",
              "  </script>\n",
              "</div>\n",
              "\n",
              "  <div id=\"id_bcdad5db-19ad-4696-92c1-7971d4cc5ee3\">\n",
              "    <style>\n",
              "      .colab-df-generate {\n",
              "        background-color: #E8F0FE;\n",
              "        border: none;\n",
              "        border-radius: 50%;\n",
              "        cursor: pointer;\n",
              "        display: none;\n",
              "        fill: #1967D2;\n",
              "        height: 32px;\n",
              "        padding: 0 0 0 0;\n",
              "        width: 32px;\n",
              "      }\n",
              "\n",
              "      .colab-df-generate:hover {\n",
              "        background-color: #E2EBFA;\n",
              "        box-shadow: 0px 1px 2px rgba(60, 64, 67, 0.3), 0px 1px 3px 1px rgba(60, 64, 67, 0.15);\n",
              "        fill: #174EA6;\n",
              "      }\n",
              "\n",
              "      [theme=dark] .colab-df-generate {\n",
              "        background-color: #3B4455;\n",
              "        fill: #D2E3FC;\n",
              "      }\n",
              "\n",
              "      [theme=dark] .colab-df-generate:hover {\n",
              "        background-color: #434B5C;\n",
              "        box-shadow: 0px 1px 3px 1px rgba(0, 0, 0, 0.15);\n",
              "        filter: drop-shadow(0px 1px 2px rgba(0, 0, 0, 0.3));\n",
              "        fill: #FFFFFF;\n",
              "      }\n",
              "    </style>\n",
              "    <button class=\"colab-df-generate\" onclick=\"generateWithVariable('df')\"\n",
              "            title=\"Generate code using this dataframe.\"\n",
              "            style=\"display:none;\">\n",
              "\n",
              "  <svg xmlns=\"http://www.w3.org/2000/svg\" height=\"24px\"viewBox=\"0 0 24 24\"\n",
              "       width=\"24px\">\n",
              "    <path d=\"M7,19H8.4L18.45,9,17,7.55,7,17.6ZM5,21V16.75L18.45,3.32a2,2,0,0,1,2.83,0l1.4,1.43a1.91,1.91,0,0,1,.58,1.4,1.91,1.91,0,0,1-.58,1.4L9.25,21ZM18.45,9,17,7.55Zm-12,3A5.31,5.31,0,0,0,4.9,8.1,5.31,5.31,0,0,0,1,6.5,5.31,5.31,0,0,0,4.9,4.9,5.31,5.31,0,0,0,6.5,1,5.31,5.31,0,0,0,8.1,4.9,5.31,5.31,0,0,0,12,6.5,5.46,5.46,0,0,0,6.5,12Z\"/>\n",
              "  </svg>\n",
              "    </button>\n",
              "    <script>\n",
              "      (() => {\n",
              "      const buttonEl =\n",
              "        document.querySelector('#id_bcdad5db-19ad-4696-92c1-7971d4cc5ee3 button.colab-df-generate');\n",
              "      buttonEl.style.display =\n",
              "        google.colab.kernel.accessAllowed ? 'block' : 'none';\n",
              "\n",
              "      buttonEl.onclick = () => {\n",
              "        google.colab.notebook.generateWithVariable('df');\n",
              "      }\n",
              "      })();\n",
              "    </script>\n",
              "  </div>\n",
              "\n",
              "    </div>\n",
              "  </div>\n"
            ],
            "application/vnd.google.colaboratory.intrinsic+json": {
              "type": "dataframe",
              "variable_name": "df",
              "summary": "{\n  \"name\": \"df\",\n  \"rows\": 55691,\n  \"fields\": [\n    {\n      \"column\": \"Date\",\n      \"properties\": {\n        \"dtype\": \"object\",\n        \"num_unique_values\": 366,\n        \"samples\": [\n          \"7/15/20\",\n          \"2/3/20\",\n          \"1/16/20\"\n        ],\n        \"semantic_type\": \"\",\n        \"description\": \"\"\n      }\n    },\n    {\n      \"column\": \"Site ID\",\n      \"properties\": {\n        \"dtype\": \"number\",\n        \"std\": 294214,\n        \"min\": 60010007,\n        \"max\": 61131003,\n        \"num_unique_values\": 166,\n        \"samples\": [\n          60670010,\n          60832011,\n          60592022\n        ],\n        \"semantic_type\": \"\",\n        \"description\": \"\"\n      }\n    },\n    {\n      \"column\": \"POC\",\n      \"properties\": {\n        \"dtype\": \"number\",\n        \"std\": 1,\n        \"min\": 1,\n        \"max\": 21,\n        \"num_unique_values\": 11,\n        \"samples\": [\n          8,\n          3,\n          12\n        ],\n        \"semantic_type\": \"\",\n        \"description\": \"\"\n      }\n    },\n    {\n      \"column\": \"PM\",\n      \"properties\": {\n        \"dtype\": \"number\",\n        \"std\": 19.83794610427299,\n        \"min\": -3.0,\n        \"max\": 824.1,\n        \"num_unique_values\": 1301,\n        \"samples\": [\n          102.5,\n          58.8,\n          22.2\n        ],\n        \"semantic_type\": \"\",\n        \"description\": \"\"\n      }\n    },\n    {\n      \"column\": \"AQI\",\n      \"properties\": {\n        \"dtype\": \"number\",\n        \"std\": 33,\n        \"min\": 0,\n        \"max\": 714,\n        \"num_unique_values\": 295,\n        \"samples\": [\n          207,\n          277,\n          49\n        ],\n        \"semantic_type\": \"\",\n        \"description\": \"\"\n      }\n    },\n    {\n      \"column\": \"Site Name\",\n      \"properties\": {\n        \"dtype\": \"category\",\n        \"num_unique_values\": 164,\n        \"samples\": [\n          \"San Rafael Wilderness\",\n          \"Camp Pendleton\",\n          \"Santa Barbara\"\n        ],\n        \"semantic_type\": \"\",\n        \"description\": \"\"\n      }\n    },\n    {\n      \"column\": \"CBSA_NAME\",\n      \"properties\": {\n        \"dtype\": \"category\",\n        \"num_unique_values\": 33,\n        \"samples\": [\n          \"Visalia-Porterville, CA\",\n          \"Salinas, CA\",\n          \"Vallejo-Fairfield, CA\"\n        ],\n        \"semantic_type\": \"\",\n        \"description\": \"\"\n      }\n    },\n    {\n      \"column\": \"COUNTY\",\n      \"properties\": {\n        \"dtype\": \"category\",\n        \"num_unique_values\": 51,\n        \"samples\": [\n          \"Sonoma\",\n          \"Shasta\",\n          \"Tehama\"\n        ],\n        \"semantic_type\": \"\",\n        \"description\": \"\"\n      }\n    },\n    {\n      \"column\": \"latitude\",\n      \"properties\": {\n        \"dtype\": \"number\",\n        \"std\": 2.2581856522077572,\n        \"min\": 32.57816,\n        \"max\": 41.75613,\n        \"num_unique_values\": 166,\n        \"samples\": [\n          38.56844,\n          34.44551,\n          33.63003\n        ],\n        \"semantic_type\": \"\",\n        \"description\": \"\"\n      }\n    },\n    {\n      \"column\": \"longitude\",\n      \"properties\": {\n        \"dtype\": \"number\",\n        \"std\": 2.00197086668306,\n        \"min\": -124.20347,\n        \"max\": -115.48307,\n        \"num_unique_values\": 166,\n        \"samples\": [\n          -121.49311,\n          -119.8284,\n          -117.67593\n        ],\n        \"semantic_type\": \"\",\n        \"description\": \"\"\n      }\n    }\n  ]\n}"
            }
          },
          "metadata": {},
          "execution_count": 6
        }
      ],
      "source": [
        "df=pd.read_csv('https://qm2.s3.eu-west-2.amazonaws.com/wk3/california_aqi.csv')\n",
        "df"
      ]
    },
    {
      "cell_type": "markdown",
      "metadata": {
        "id": "G4LMnPYTB0RP"
      },
      "source": [
        "Each row in this dataset is an individual reading from an air quality sensor. The first row is a reading from sensor number 60010007 on January 1st 2020. It is located in Alameda County, and recorded an Air Quality Index (AQI) reading of 36. So for each sensor (uniquely identified by the Site ID column) we will have 365 readings. We also have the latitude and longitude of each one of these air quality sensors. The presence of these fields makes this **spatio-temporal** data. We'll first analyze the temporal dimension of our data, before adding in the spatial dimension\n",
        "\n",
        "##  Temporal Data\n",
        "\n",
        "Before we go any further, we need to focus on a very special column in our dataset: the \"Date\" column. We'll be relying heavily on this dimension of our dataset. Whenever we have temporal data, the first thing we want to do is check whether pandas is storing it as datetime information or as a string (text). We can do this using the `dtype` function."
      ]
    },
    {
      "cell_type": "code",
      "execution_count": 7,
      "metadata": {
        "colab": {
          "base_uri": "https://localhost:8080/"
        },
        "id": "GZjdzhrW_XsV",
        "outputId": "47a9135d-7399-4bde-8f2d-5374ef6a3fb8"
      },
      "outputs": [
        {
          "output_type": "stream",
          "name": "stdout",
          "text": [
            "Prior to cleaning, the data type of the \"Date\" column is: object\n"
          ]
        },
        {
          "output_type": "stream",
          "name": "stderr",
          "text": [
            "<ipython-input-7-613d5f16f0e1>:3: UserWarning: Could not infer format, so each element will be parsed individually, falling back to `dateutil`. To ensure parsing is consistent and as-expected, please specify a format.\n",
            "  df['Date']=pd.to_datetime(df['Date'])\n"
          ]
        },
        {
          "output_type": "stream",
          "name": "stdout",
          "text": [
            "Now, it is stored as:  datetime64[ns]\n"
          ]
        }
      ],
      "source": [
        "print('Prior to cleaning, the data type of the \"Date\" column is:', df['Date'].dtype)\n",
        "\n",
        "df['Date']=pd.to_datetime(df['Date'])\n",
        "\n",
        "print('Now, it is stored as: ', df['Date'].dtype)"
      ]
    },
    {
      "cell_type": "markdown",
      "metadata": {
        "id": "folcag_kce9u"
      },
      "source": [
        "Once we've stored the Date column as datetime information, we can do all sorts of useful things with it. For example, we can quickly extract the month from the date, or even the \"day of year\" (i.e., how many days since January 1st of that year have passed). Try doing that in one line of code if your \"Date\" column is stored as text!"
      ]
    },
    {
      "cell_type": "code",
      "execution_count": 8,
      "metadata": {
        "colab": {
          "base_uri": "https://localhost:8080/"
        },
        "id": "DtCTajbNbULr",
        "outputId": "23cf21bc-344d-4d40-ac89-0ffea131b818"
      },
      "outputs": [
        {
          "output_type": "stream",
          "name": "stdout",
          "text": [
            "            Date  Month  Day\n",
            "0     2020-01-01      1    1\n",
            "1     2020-01-02      1    2\n",
            "2     2020-01-03      1    3\n",
            "3     2020-01-04      1    4\n",
            "4     2020-01-05      1    5\n",
            "...          ...    ...  ...\n",
            "55686 2020-11-29     11  334\n",
            "55687 2020-12-18     12  353\n",
            "55688 2020-12-20     12  355\n",
            "55689 2020-12-23     12  358\n",
            "55690 2020-12-29     12  364\n",
            "\n",
            "[55691 rows x 3 columns]\n"
          ]
        }
      ],
      "source": [
        "# we can extract the month from the Date column and save it as a new column\n",
        "df['Month']=df['Date'].dt.month\n",
        "# we can do the same for the day of year.\n",
        "df['Day']=df['Date'].dt.dayofyear\n",
        "\n",
        "print(df[['Date','Month','Day']])"
      ]
    },
    {
      "cell_type": "markdown",
      "metadata": {
        "id": "FmHh2SuZfAkY"
      },
      "source": [
        "When I print the new columns we've made (\"Month\" and \"Day\") next to the original \"Date\" column, we can see that everything is working as it should. First date (January 1st, 2020), has a value of 1 in the month column, and a 1 in the day column. The last row in the dataset was a sensor reading raken on December 29th, 2020. It has a month of 12, and day-of-year value of 364. Great.\n",
        "\n",
        "### Exercise\n",
        "\n",
        "[Here's](https://pandas.pydata.org/docs/reference/api/pandas.Series.dt.dayofyear.html) the documentation for the pandas function that allowed us to extract the day of year from the datetime column. Using the documentation on this page, create a new column in the dataframe that contains the week of year."
      ]
    },
    {
      "cell_type": "code",
      "execution_count": 24,
      "metadata": {
        "id": "JA1ATGEsf8QF",
        "outputId": "8670a81a-d7d3-40a3-ff3a-d5b30d1dd8ae",
        "colab": {
          "base_uri": "https://localhost:8080/"
        }
      },
      "outputs": [
        {
          "output_type": "stream",
          "name": "stderr",
          "text": [
            "<ipython-input-24-531ced5d721b>:4: UserWarning: Could not infer format, so each element will be parsed individually, falling back to `dateutil`. To ensure parsing is consistent and as-expected, please specify a format.\n",
            "  df['Date'] = pd.to_datetime(df['Date'])\n"
          ]
        },
        {
          "output_type": "stream",
          "name": "stdout",
          "text": [
            "            Date  Month  Day  Week_of_the_Year\n",
            "0     2020-01-01      1    1                 1\n",
            "1     2020-01-02      1    2                 1\n",
            "2     2020-01-03      1    3                 1\n",
            "3     2020-01-04      1    4                 1\n",
            "4     2020-01-05      1    5                 1\n",
            "...          ...    ...  ...               ...\n",
            "55686 2020-11-29     11  334                48\n",
            "55687 2020-12-18     12  353                51\n",
            "55688 2020-12-20     12  355                51\n",
            "55689 2020-12-23     12  358                52\n",
            "55690 2020-12-29     12  364                53\n",
            "\n",
            "[55691 rows x 4 columns]\n"
          ]
        }
      ],
      "source": [
        "import pandas as pd\n",
        "df = pd.read_csv('https://qm2.s3.eu-west-2.amazonaws.com/wk3/california_aqi.csv')\n",
        "df['Date'] = pd.to_datetime(df['Date'])\n",
        "df['Month'] = df['Date'].dt.month\n",
        "df['Day'] = df['Date'].dt.dayofyear\n",
        "df['Week_of_the_Year'] = df['Date'].dt.isocalendar().week\n",
        "\n",
        "print(df[['Date', 'Month', 'Day', 'Week_of_the_Year']])"
      ]
    },
    {
      "cell_type": "markdown",
      "metadata": {
        "id": "E-U0Qi3dc8TW"
      },
      "source": [
        "### Grouping Data\n",
        "\n",
        "We can now use the new temporal columns we've created to analyze our data further. The broadest possible question we're interested in today is \"What was the effect of the 2020 wildfires on air quality in California?\" This involves looking at air quality over time, and comparing pre/post wildfire air quality reading.\n",
        "\n",
        "To translate that into python, we effectively want to calculate the average AQI value for all of the sensors in California each day. We can accomplish this using the `.groupby()` function in pandas. [Here](https://pandas.pydata.org/docs/reference/api/pandas.DataFrame.groupby.html) is the documentation page for the function, give it a quick read.\n",
        "\n",
        "Remember, each row in our dataframe `df` is an individual sensor reading on a given day. We now want a dataframe in which each row is *one day*, representing the average of *all AQI sensors*. We can accomplish that using the following line of code, which has four parts:\n",
        "\n",
        "`df.groupby('Day')['AQI'].mean()`\n",
        "\n",
        "1. `df`: the dataframe we want to use\n",
        "2. `.groupby('Day')`: the groupby function, and the name of the column that we want to group our data by. In this case, we want each row in our new dataset to be one day, so we're using the \"Day\" column.\n",
        "3. `['AQI']`: the data that we want to aggregate. Remember, our dataframe has many columns, but we want to calculate the average daily value of AQI.\n",
        "4. `.mean()`: the method of aggregation. We're calculating the average in this case, but we could also want to take the maximum value (`.max()`), minimum value (`.min()`), median (`.median()`), etc.\n",
        "\n",
        "Let's look at the output from the line of code above. Remember, whenever we make something new, we must store it somewhere or it disappears! I'm storing this as a new dataframe called \"daily\"."
      ]
    },
    {
      "cell_type": "code",
      "execution_count": 9,
      "metadata": {
        "colab": {
          "base_uri": "https://localhost:8080/",
          "height": 490
        },
        "id": "M0LJq1FyB1da",
        "outputId": "167baf9b-0e5a-4b1d-b382-b14cc95475b5"
      },
      "outputs": [
        {
          "output_type": "execute_result",
          "data": {
            "text/plain": [
              "Day\n",
              "1      50.255682\n",
              "2      43.300000\n",
              "3      50.437500\n",
              "4      47.224299\n",
              "5      39.240602\n",
              "         ...    \n",
              "362    33.500000\n",
              "363    23.358209\n",
              "364    30.610256\n",
              "365    39.492754\n",
              "366    42.532374\n",
              "Name: AQI, Length: 366, dtype: float64"
            ],
            "text/html": [
              "<div>\n",
              "<style scoped>\n",
              "    .dataframe tbody tr th:only-of-type {\n",
              "        vertical-align: middle;\n",
              "    }\n",
              "\n",
              "    .dataframe tbody tr th {\n",
              "        vertical-align: top;\n",
              "    }\n",
              "\n",
              "    .dataframe thead th {\n",
              "        text-align: right;\n",
              "    }\n",
              "</style>\n",
              "<table border=\"1\" class=\"dataframe\">\n",
              "  <thead>\n",
              "    <tr style=\"text-align: right;\">\n",
              "      <th></th>\n",
              "      <th>AQI</th>\n",
              "    </tr>\n",
              "    <tr>\n",
              "      <th>Day</th>\n",
              "      <th></th>\n",
              "    </tr>\n",
              "  </thead>\n",
              "  <tbody>\n",
              "    <tr>\n",
              "      <th>1</th>\n",
              "      <td>50.255682</td>\n",
              "    </tr>\n",
              "    <tr>\n",
              "      <th>2</th>\n",
              "      <td>43.300000</td>\n",
              "    </tr>\n",
              "    <tr>\n",
              "      <th>3</th>\n",
              "      <td>50.437500</td>\n",
              "    </tr>\n",
              "    <tr>\n",
              "      <th>4</th>\n",
              "      <td>47.224299</td>\n",
              "    </tr>\n",
              "    <tr>\n",
              "      <th>5</th>\n",
              "      <td>39.240602</td>\n",
              "    </tr>\n",
              "    <tr>\n",
              "      <th>...</th>\n",
              "      <td>...</td>\n",
              "    </tr>\n",
              "    <tr>\n",
              "      <th>362</th>\n",
              "      <td>33.500000</td>\n",
              "    </tr>\n",
              "    <tr>\n",
              "      <th>363</th>\n",
              "      <td>23.358209</td>\n",
              "    </tr>\n",
              "    <tr>\n",
              "      <th>364</th>\n",
              "      <td>30.610256</td>\n",
              "    </tr>\n",
              "    <tr>\n",
              "      <th>365</th>\n",
              "      <td>39.492754</td>\n",
              "    </tr>\n",
              "    <tr>\n",
              "      <th>366</th>\n",
              "      <td>42.532374</td>\n",
              "    </tr>\n",
              "  </tbody>\n",
              "</table>\n",
              "<p>366 rows × 1 columns</p>\n",
              "</div><br><label><b>dtype:</b> float64</label>"
            ]
          },
          "metadata": {},
          "execution_count": 9
        }
      ],
      "source": [
        "daily=df.groupby('Day')['AQI'].mean()\n",
        "daily"
      ]
    },
    {
      "cell_type": "markdown",
      "metadata": {
        "id": "HnUimPW5hD2m"
      },
      "source": [
        "Now we can see that our dataframe has 366 rows, one for each day of the year (2020 was actually a leap year!). Let's plot the daily average of the AQI sensors, along with a dashed vertical line indicating the day a State of Emergency was declared (August 18th)."
      ]
    },
    {
      "cell_type": "code",
      "execution_count": 10,
      "metadata": {
        "colab": {
          "base_uri": "https://localhost:8080/",
          "height": 736
        },
        "id": "G_LznYgJjAdu",
        "outputId": "9d015141-7c0e-4981-a4cd-216573f17672"
      },
      "outputs": [
        {
          "output_type": "execute_result",
          "data": {
            "text/plain": [
              "<matplotlib.legend.Legend at 0x7dab3b2dbb20>"
            ]
          },
          "metadata": {},
          "execution_count": 10
        },
        {
          "output_type": "display_data",
          "data": {
            "text/plain": [
              "<Figure size 1000x800 with 1 Axes>"
            ],
            "image/png": "[encoded data removed]"
          },
          "metadata": {}
        }
      ],
      "source": [
        "# plot the daily data\n",
        "daily.plot(color='red')\n",
        "\n",
        "#add title and axis labels\n",
        "plt.title('Daily Air Quality Index readings in California, 2020')\n",
        "plt.ylabel('AQI')\n",
        "plt.xlabel('Day of Year')\n",
        "\n",
        "# add a dashed black line on August 18th (the 231st day of the year)\n",
        "plt.axvline(231, color='black', linestyle='--', label='State of Emergency')\n",
        "plt.legend()"
      ]
    },
    {
      "cell_type": "markdown",
      "metadata": {
        "id": "24q4Noc3jSRZ"
      },
      "source": [
        "Pretty cool! We can clearly see some spikes in AQI that correspond directly to when the state of emergency was declared. Our data is matching expectations about reality: even though there's no information about the state of emergency or the wildfires in our dataframe (remember, it's just a bunch of air quality readings from sensors), we observe a relationship between our variables (presence of wildfires and air quality) that conforms to our expectations.\n",
        "\n",
        "### Exercise\n",
        "Now, repeat the above plot but aggregate the dataframe by month rather than by day. Store the monthly data as a new dataframe called \"monthly\"."
      ]
    },
    {
      "cell_type": "code",
      "execution_count": 25,
      "metadata": {
        "id": "NonkXQSCjZZV",
        "outputId": "49e14669-2203-42c8-fc1e-82620e0e1fac",
        "colab": {
          "base_uri": "https://localhost:8080/",
          "height": 718
        }
      },
      "outputs": [
        {
          "output_type": "display_data",
          "data": {
            "text/plain": [
              "<Figure size 1000x800 with 1 Axes>"
            ],
            "image/png": "[encoded data removed]"
          },
          "metadata": {}
        }
      ],
      "source": [
        "monthly = df.groupby('Month')['AQI'].mean()\n",
        "monthly.plot()\n",
        "plt.title('Air Quality Index by month, 2020')\n",
        "plt.ylabel('AQI')\n",
        "plt.xlabel('Month')\n",
        "\n",
        "plt.axvline(8, color='black', linestyle='--', label='State of Emergency')\n",
        "plt.legend()\n",
        "plt.show()"
      ]
    },
    {
      "cell_type": "markdown",
      "metadata": {
        "id": "TUp_C4_Il3se"
      },
      "source": [
        "### Geographic Disparities\n",
        "\n",
        "OK. We've got a good sense of how the wildfires affected air quality readings across the whole state. But California is huge; there are probably geographic disparities in how bad air quality was as a result of the fires. Let's see which counties were worst affected by the wildfires.  \n",
        "\n"
      ]
    },
    {
      "cell_type": "markdown",
      "metadata": {
        "id": "H3fIoMxfm1Fy"
      },
      "source": [
        "In our original dataframe, each row was a reading from a given sensor on a given day. We grouped this data by day to create a dataframe that took the average of *all* sensors in california for each day as follows:\n",
        "\n",
        "`df.groupby('Day')['AQI'].mean()`\n",
        "\n",
        "\n",
        "Now, we want to plot the average daily air quality by county; this will involve aggregating both by day *and by county*. Intuitively, we can accomplish this changing `'Day'` to `['Day','COUNTY']`, like so:\n",
        "\n",
        "`df.groupby(['Day','COUNTY'])['AQI'].mean()`\n",
        "\n",
        "Let's store this new dataframe and call it \"county_daily\":"
      ]
    },
    {
      "cell_type": "code",
      "execution_count": 11,
      "metadata": {
        "colab": {
          "base_uri": "https://localhost:8080/",
          "height": 424
        },
        "id": "AO6D8u82naTR",
        "outputId": "76793515-a007-42ba-a006-e4b902996c8d"
      },
      "outputs": [
        {
          "output_type": "execute_result",
          "data": {
            "text/plain": [
              "       Day        COUNTY        AQI\n",
              "0        1       Alameda  44.500000\n",
              "1        1         Butte  66.666667\n",
              "2        1     Calaveras  63.000000\n",
              "3        1        Colusa  78.000000\n",
              "4        1  Contra Costa  46.000000\n",
              "...    ...           ...        ...\n",
              "17314  366        Tehama  52.000000\n",
              "17315  366       Trinity  36.000000\n",
              "17316  366        Tulare  62.666667\n",
              "17317  366       Ventura  23.666667\n",
              "17318  366          Yolo  35.000000\n",
              "\n",
              "[17319 rows x 3 columns]"
            ],
            "text/html": [
              "\n",
              "  <div id=\"df-7ee01f2e-a9e0-47f3-917a-9ced04b07dbe\" class=\"colab-df-container\">\n",
              "    <div>\n",
              "<style scoped>\n",
              "    .dataframe tbody tr th:only-of-type {\n",
              "        vertical-align: middle;\n",
              "    }\n",
              "\n",
              "    .dataframe tbody tr th {\n",
              "        vertical-align: top;\n",
              "    }\n",
              "\n",
              "    .dataframe thead th {\n",
              "        text-align: right;\n",
              "    }\n",
              "</style>\n",
              "<table border=\"1\" class=\"dataframe\">\n",
              "  <thead>\n",
              "    <tr style=\"text-align: right;\">\n",
              "      <th></th>\n",
              "      <th>Day</th>\n",
              "      <th>COUNTY</th>\n",
              "      <th>AQI</th>\n",
              "    </tr>\n",
              "  </thead>\n",
              "  <tbody>\n",
              "    <tr>\n",
              "      <th>0</th>\n",
              "      <td>1</td>\n",
              "      <td>Alameda</td>\n",
              "      <td>44.500000</td>\n",
              "    </tr>\n",
              "    <tr>\n",
              "      <th>1</th>\n",
              "      <td>1</td>\n",
              "      <td>Butte</td>\n",
              "      <td>66.666667</td>\n",
              "    </tr>\n",
              "    <tr>\n",
              "      <th>2</th>\n",
              "      <td>1</td>\n",
              "      <td>Calaveras</td>\n",
              "      <td>63.000000</td>\n",
              "    </tr>\n",
              "    <tr>\n",
              "      <th>3</th>\n",
              "      <td>1</td>\n",
              "      <td>Colusa</td>\n",
              "      <td>78.000000</td>\n",
              "    </tr>\n",
              "    <tr>\n",
              "      <th>4</th>\n",
              "      <td>1</td>\n",
              "      <td>Contra Costa</td>\n",
              "      <td>46.000000</td>\n",
              "    </tr>\n",
              "    <tr>\n",
              "      <th>...</th>\n",
              "      <td>...</td>\n",
              "      <td>...</td>\n",
              "      <td>...</td>\n",
              "    </tr>\n",
              "    <tr>\n",
              "      <th>17314</th>\n",
              "      <td>366</td>\n",
              "      <td>Tehama</td>\n",
              "      <td>52.000000</td>\n",
              "    </tr>\n",
              "    <tr>\n",
              "      <th>17315</th>\n",
              "      <td>366</td>\n",
              "      <td>Trinity</td>\n",
              "      <td>36.000000</td>\n",
              "    </tr>\n",
              "    <tr>\n",
              "      <th>17316</th>\n",
              "      <td>366</td>\n",
              "      <td>Tulare</td>\n",
              "      <td>62.666667</td>\n",
              "    </tr>\n",
              "    <tr>\n",
              "      <th>17317</th>\n",
              "      <td>366</td>\n",
              "      <td>Ventura</td>\n",
              "      <td>23.666667</td>\n",
              "    </tr>\n",
              "    <tr>\n",
              "      <th>17318</th>\n",
              "      <td>366</td>\n",
              "      <td>Yolo</td>\n",
              "      <td>35.000000</td>\n",
              "    </tr>\n",
              "  </tbody>\n",
              "</table>\n",
              "<p>17319 rows × 3 columns</p>\n",
              "</div>\n",
              "    <div class=\"colab-df-buttons\">\n",
              "\n",
              "  <div class=\"colab-df-container\">\n",
              "    <button class=\"colab-df-convert\" onclick=\"convertToInteractive('df-7ee01f2e-a9e0-47f3-917a-9ced04b07dbe')\"\n",
              "            title=\"Convert this dataframe to an interactive table.\"\n",
              "            style=\"display:none;\">\n",
              "\n",
              "  <svg xmlns=\"http://www.w3.org/2000/svg\" height=\"24px\" viewBox=\"0 -960 960 960\">\n",
              "    <path d=\"M120-120v-720h720v720H120Zm60-500h600v-160H180v160Zm220 220h160v-160H400v160Zm0 220h160v-160H400v160ZM180-400h160v-160H180v160Zm440 0h160v-160H620v160ZM180-180h160v-160H180v160Zm440 0h160v-160H620v160Z\"/>\n",
              "  </svg>\n",
              "    </button>\n",
              "\n",
              "  <style>\n",
              "    .colab-df-container {\n",
              "      display:flex;\n",
              "      gap: 12px;\n",
              "    }\n",
              "\n",
              "    .colab-df-convert {\n",
              "      background-color: #E8F0FE;\n",
              "      border: none;\n",
              "      border-radius: 50%;\n",
              "      cursor: pointer;\n",
              "      display: none;\n",
              "      fill: #1967D2;\n",
              "      height: 32px;\n",
              "      padding: 0 0 0 0;\n",
              "      width: 32px;\n",
              "    }\n",
              "\n",
              "    .colab-df-convert:hover {\n",
              "      background-color: #E2EBFA;\n",
              "      box-shadow: 0px 1px 2px rgba(60, 64, 67, 0.3), 0px 1px 3px 1px rgba(60, 64, 67, 0.15);\n",
              "      fill: #174EA6;\n",
              "    }\n",
              "\n",
              "    .colab-df-buttons div {\n",
              "      margin-bottom: 4px;\n",
              "    }\n",
              "\n",
              "    [theme=dark] .colab-df-convert {\n",
              "      background-color: #3B4455;\n",
              "      fill: #D2E3FC;\n",
              "    }\n",
              "\n",
              "    [theme=dark] .colab-df-convert:hover {\n",
              "      background-color: #434B5C;\n",
              "      box-shadow: 0px 1px 3px 1px rgba(0, 0, 0, 0.15);\n",
              "      filter: drop-shadow(0px 1px 2px rgba(0, 0, 0, 0.3));\n",
              "      fill: #FFFFFF;\n",
              "    }\n",
              "  </style>\n",
              "\n",
              "    <script>\n",
              "      const buttonEl =\n",
              "        document.querySelector('#df-7ee01f2e-a9e0-47f3-917a-9ced04b07dbe button.colab-df-convert');\n",
              "      buttonEl.style.display =\n",
              "        google.colab.kernel.accessAllowed ? 'block' : 'none';\n",
              "\n",
              "      async function convertToInteractive(key) {\n",
              "        const element = document.querySelector('#df-7ee01f2e-a9e0-47f3-917a-9ced04b07dbe');\n",
              "        const dataTable =\n",
              "          await google.colab.kernel.invokeFunction('convertToInteractive',\n",
              "                                                    [key], {});\n",
              "        if (!dataTable) return;\n",
              "\n",
              "        const docLinkHtml = 'Like what you see? Visit the ' +\n",
              "          '<a target=\"_blank\" href=https://colab.research.google.com/notebooks/data_table.ipynb>data table notebook</a>'\n",
              "          + ' to learn more about interactive tables.';\n",
              "        element.innerHTML = '';\n",
              "        dataTable['output_type'] = 'display_data';\n",
              "        await google.colab.output.renderOutput(dataTable, element);\n",
              "        const docLink = document.createElement('div');\n",
              "        docLink.innerHTML = docLinkHtml;\n",
              "        element.appendChild(docLink);\n",
              "      }\n",
              "    </script>\n",
              "  </div>\n",
              "\n",
              "\n",
              "<div id=\"df-588506ac-5cdd-41a2-a715-55177b59fc1f\">\n",
              "  <button class=\"colab-df-quickchart\" onclick=\"quickchart('df-588506ac-5cdd-41a2-a715-55177b59fc1f')\"\n",
              "            title=\"Suggest charts\"\n",
              "            style=\"display:none;\">\n",
              "\n",
              "<svg xmlns=\"http://www.w3.org/2000/svg\" height=\"24px\"viewBox=\"0 0 24 24\"\n",
              "     width=\"24px\">\n",
              "    <g>\n",
              "        <path d=\"M19 3H5c-1.1 0-2 .9-2 2v14c0 1.1.9 2 2 2h14c1.1 0 2-.9 2-2V5c0-1.1-.9-2-2-2zM9 17H7v-7h2v7zm4 0h-2V7h2v10zm4 0h-2v-4h2v4z\"/>\n",
              "    </g>\n",
              "</svg>\n",
              "  </button>\n",
              "\n",
              "<style>\n",
              "  .colab-df-quickchart {\n",
              "      --bg-color: #E8F0FE;\n",
              "      --fill-color: #1967D2;\n",
              "      --hover-bg-color: #E2EBFA;\n",
              "      --hover-fill-color: #174EA6;\n",
              "      --disabled-fill-color: #AAA;\n",
              "      --disabled-bg-color: #DDD;\n",
              "  }\n",
              "\n",
              "  [theme=dark] .colab-df-quickchart {\n",
              "      --bg-color: #3B4455;\n",
              "      --fill-color: #D2E3FC;\n",
              "      --hover-bg-color: #434B5C;\n",
              "      --hover-fill-color: #FFFFFF;\n",
              "      --disabled-bg-color: #3B4455;\n",
              "      --disabled-fill-color: #666;\n",
              "  }\n",
              "\n",
              "  .colab-df-quickchart {\n",
              "    background-color: var(--bg-color);\n",
              "    border: none;\n",
              "    border-radius: 50%;\n",
              "    cursor: pointer;\n",
              "    display: none;\n",
              "    fill: var(--fill-color);\n",
              "    height: 32px;\n",
              "    padding: 0;\n",
              "    width: 32px;\n",
              "  }\n",
              "\n",
              "  .colab-df-quickchart:hover {\n",
              "    background-color: var(--hover-bg-color);\n",
              "    box-shadow: 0 1px 2px rgba(60, 64, 67, 0.3), 0 1px 3px 1px rgba(60, 64, 67, 0.15);\n",
              "    fill: var(--button-hover-fill-color);\n",
              "  }\n",
              "\n",
              "  .colab-df-quickchart-complete:disabled,\n",
              "  .colab-df-quickchart-complete:disabled:hover {\n",
              "    background-color: var(--disabled-bg-color);\n",
              "    fill: var(--disabled-fill-color);\n",
              "    box-shadow: none;\n",
              "  }\n",
              "\n",
              "  .colab-df-spinner {\n",
              "    border: 2px solid var(--fill-color);\n",
              "    border-color: transparent;\n",
              "    border-bottom-color: var(--fill-color);\n",
              "    animation:\n",
              "      spin 1s steps(1) infinite;\n",
              "  }\n",
              "\n",
              "  @keyframes spin {\n",
              "    0% {\n",
              "      border-color: transparent;\n",
              "      border-bottom-color: var(--fill-color);\n",
              "      border-left-color: var(--fill-color);\n",
              "    }\n",
              "    20% {\n",
              "      border-color: transparent;\n",
              "      border-left-color: var(--fill-color);\n",
              "      border-top-color: var(--fill-color);\n",
              "    }\n",
              "    30% {\n",
              "      border-color: transparent;\n",
              "      border-left-color: var(--fill-color);\n",
              "      border-top-color: var(--fill-color);\n",
              "      border-right-color: var(--fill-color);\n",
              "    }\n",
              "    40% {\n",
              "      border-color: transparent;\n",
              "      border-right-color: var(--fill-color);\n",
              "      border-top-color: var(--fill-color);\n",
              "    }\n",
              "    60% {\n",
              "      border-color: transparent;\n",
              "      border-right-color: var(--fill-color);\n",
              "    }\n",
              "    80% {\n",
              "      border-color: transparent;\n",
              "      border-right-color: var(--fill-color);\n",
              "      border-bottom-color: var(--fill-color);\n",
              "    }\n",
              "    90% {\n",
              "      border-color: transparent;\n",
              "      border-bottom-color: var(--fill-color);\n",
              "    }\n",
              "  }\n",
              "</style>\n",
              "\n",
              "  <script>\n",
              "    async function quickchart(key) {\n",
              "      const quickchartButtonEl =\n",
              "        document.querySelector('#' + key + ' button');\n",
              "      quickchartButtonEl.disabled = true;  // To prevent multiple clicks.\n",
              "      quickchartButtonEl.classList.add('colab-df-spinner');\n",
              "      try {\n",
              "        const charts = await google.colab.kernel.invokeFunction(\n",
              "            'suggestCharts', [key], {});\n",
              "      } catch (error) {\n",
              "        console.error('Error during call to suggestCharts:', error);\n",
              "      }\n",
              "      quickchartButtonEl.classList.remove('colab-df-spinner');\n",
              "      quickchartButtonEl.classList.add('colab-df-quickchart-complete');\n",
              "    }\n",
              "    (() => {\n",
              "      let quickchartButtonEl =\n",
              "        document.querySelector('#df-588506ac-5cdd-41a2-a715-55177b59fc1f button');\n",
              "      quickchartButtonEl.style.display =\n",
              "        google.colab.kernel.accessAllowed ? 'block' : 'none';\n",
              "    })();\n",
              "  </script>\n",
              "</div>\n",
              "\n",
              "  <div id=\"id_f5f33482-0d1b-44b0-ae9a-b3399682e557\">\n",
              "    <style>\n",
              "      .colab-df-generate {\n",
              "        background-color: #E8F0FE;\n",
              "        border: none;\n",
              "        border-radius: 50%;\n",
              "        cursor: pointer;\n",
              "        display: none;\n",
              "        fill: #1967D2;\n",
              "        height: 32px;\n",
              "        padding: 0 0 0 0;\n",
              "        width: 32px;\n",
              "      }\n",
              "\n",
              "      .colab-df-generate:hover {\n",
              "        background-color: #E2EBFA;\n",
              "        box-shadow: 0px 1px 2px rgba(60, 64, 67, 0.3), 0px 1px 3px 1px rgba(60, 64, 67, 0.15);\n",
              "        fill: #174EA6;\n",
              "      }\n",
              "\n",
              "      [theme=dark] .colab-df-generate {\n",
              "        background-color: #3B4455;\n",
              "        fill: #D2E3FC;\n",
              "      }\n",
              "\n",
              "      [theme=dark] .colab-df-generate:hover {\n",
              "        background-color: #434B5C;\n",
              "        box-shadow: 0px 1px 3px 1px rgba(0, 0, 0, 0.15);\n",
              "        filter: drop-shadow(0px 1px 2px rgba(0, 0, 0, 0.3));\n",
              "        fill: #FFFFFF;\n",
              "      }\n",
              "    </style>\n",
              "    <button class=\"colab-df-generate\" onclick=\"generateWithVariable('county_daily')\"\n",
              "            title=\"Generate code using this dataframe.\"\n",
              "            style=\"display:none;\">\n",
              "\n",
              "  <svg xmlns=\"http://www.w3.org/2000/svg\" height=\"24px\"viewBox=\"0 0 24 24\"\n",
              "       width=\"24px\">\n",
              "    <path d=\"M7,19H8.4L18.45,9,17,7.55,7,17.6ZM5,21V16.75L18.45,3.32a2,2,0,0,1,2.83,0l1.4,1.43a1.91,1.91,0,0,1,.58,1.4,1.91,1.91,0,0,1-.58,1.4L9.25,21ZM18.45,9,17,7.55Zm-12,3A5.31,5.31,0,0,0,4.9,8.1,5.31,5.31,0,0,0,1,6.5,5.31,5.31,0,0,0,4.9,4.9,5.31,5.31,0,0,0,6.5,1,5.31,5.31,0,0,0,8.1,4.9,5.31,5.31,0,0,0,12,6.5,5.46,5.46,0,0,0,6.5,12Z\"/>\n",
              "  </svg>\n",
              "    </button>\n",
              "    <script>\n",
              "      (() => {\n",
              "      const buttonEl =\n",
              "        document.querySelector('#id_f5f33482-0d1b-44b0-ae9a-b3399682e557 button.colab-df-generate');\n",
              "      buttonEl.style.display =\n",
              "        google.colab.kernel.accessAllowed ? 'block' : 'none';\n",
              "\n",
              "      buttonEl.onclick = () => {\n",
              "        google.colab.notebook.generateWithVariable('county_daily');\n",
              "      }\n",
              "      })();\n",
              "    </script>\n",
              "  </div>\n",
              "\n",
              "    </div>\n",
              "  </div>\n"
            ],
            "application/vnd.google.colaboratory.intrinsic+json": {
              "type": "dataframe",
              "variable_name": "county_daily",
              "summary": "{\n  \"name\": \"county_daily\",\n  \"rows\": 17319,\n  \"fields\": [\n    {\n      \"column\": \"Day\",\n      \"properties\": {\n        \"dtype\": \"int32\",\n        \"num_unique_values\": 366,\n        \"samples\": [\n          194,\n          34,\n          16\n        ],\n        \"semantic_type\": \"\",\n        \"description\": \"\"\n      }\n    },\n    {\n      \"column\": \"COUNTY\",\n      \"properties\": {\n        \"dtype\": \"category\",\n        \"num_unique_values\": 51,\n        \"samples\": [\n          \"Stanislaus\",\n          \"Siskiyou\",\n          \"Trinity\"\n        ],\n        \"semantic_type\": \"\",\n        \"description\": \"\"\n      }\n    },\n    {\n      \"column\": \"AQI\",\n      \"properties\": {\n        \"dtype\": \"number\",\n        \"std\": 34.88664812164991,\n        \"min\": 0.0,\n        \"max\": 626.5,\n        \"num_unique_values\": 2174,\n        \"samples\": [\n          16.666666666666668,\n          123.0,\n          3.909090909090909\n        ],\n        \"semantic_type\": \"\",\n        \"description\": \"\"\n      }\n    }\n  ]\n}"
            }
          },
          "metadata": {},
          "execution_count": 11
        }
      ],
      "source": [
        "county_daily=df.groupby(['Day','COUNTY',])['AQI'].mean().reset_index()\n",
        "county_daily"
      ]
    },
    {
      "cell_type": "markdown",
      "metadata": {
        "id": "gbfS8_kToxiz"
      },
      "source": [
        "## Exercise\n",
        "\n",
        "Using the `groupby` function, create a new dataframe called \"counties\" in which each row is a county, and each value is the **maximum** AQI value in that county during the entire year. Then, sort this dataframe in descending order using `.sort_values(ascending=False)`"
      ]
    },
    {
      "cell_type": "code",
      "execution_count": 26,
      "metadata": {
        "id": "XEMD4htxGe2E",
        "outputId": "0768e3c8-f58f-45ae-9495-c68f6736b5db",
        "colab": {
          "base_uri": "https://localhost:8080/",
          "height": 1000
        }
      },
      "outputs": [
        {
          "output_type": "execute_result",
          "data": {
            "text/plain": [
              "COUNTY\n",
              "Mono               714\n",
              "Mariposa           574\n",
              "Plumas             469\n",
              "Mendocino          456\n",
              "Santa Cruz         426\n",
              "Inyo               420\n",
              "Butte              379\n",
              "Siskiyou           359\n",
              "Sutter             303\n",
              "San Luis Obispo    292\n",
              "Nevada             252\n",
              "Monterey           250\n",
              "Madera             250\n",
              "Fresno             249\n",
              "Los Angeles        225\n",
              "Placer             222\n",
              "Del Norte          220\n",
              "Alameda            218\n",
              "Kern               210\n",
              "Marin              206\n",
              "Solano             204\n",
              "Sacramento         200\n",
              "Tulare             200\n",
              "Napa               199\n",
              "San Francisco      198\n",
              "Kings              198\n",
              "Colusa             198\n",
              "Glenn              197\n",
              "Contra Costa       197\n",
              "Tehama             196\n",
              "San Joaquin        195\n",
              "Trinity            193\n",
              "Yolo               192\n",
              "Calaveras          192\n",
              "Sonoma             187\n",
              "San Mateo          186\n",
              "Santa Clara        186\n",
              "Stanislaus         184\n",
              "Merced             183\n",
              "Lake               180\n",
              "San Diego          172\n",
              "Santa Barbara      168\n",
              "San Benito         168\n",
              "Shasta             166\n",
              "San Bernardino     161\n",
              "El Dorado          158\n",
              "Riverside          156\n",
              "Orange             156\n",
              "Ventura            153\n",
              "Imperial           127\n",
              "Humboldt           109\n",
              "Name: AQI, dtype: int64"
            ],
            "text/html": [
              "<div>\n",
              "<style scoped>\n",
              "    .dataframe tbody tr th:only-of-type {\n",
              "        vertical-align: middle;\n",
              "    }\n",
              "\n",
              "    .dataframe tbody tr th {\n",
              "        vertical-align: top;\n",
              "    }\n",
              "\n",
              "    .dataframe thead th {\n",
              "        text-align: right;\n",
              "    }\n",
              "</style>\n",
              "<table border=\"1\" class=\"dataframe\">\n",
              "  <thead>\n",
              "    <tr style=\"text-align: right;\">\n",
              "      <th></th>\n",
              "      <th>AQI</th>\n",
              "    </tr>\n",
              "    <tr>\n",
              "      <th>COUNTY</th>\n",
              "      <th></th>\n",
              "    </tr>\n",
              "  </thead>\n",
              "  <tbody>\n",
              "    <tr>\n",
              "      <th>Mono</th>\n",
              "      <td>714</td>\n",
              "    </tr>\n",
              "    <tr>\n",
              "      <th>Mariposa</th>\n",
              "      <td>574</td>\n",
              "    </tr>\n",
              "    <tr>\n",
              "      <th>Plumas</th>\n",
              "      <td>469</td>\n",
              "    </tr>\n",
              "    <tr>\n",
              "      <th>Mendocino</th>\n",
              "      <td>456</td>\n",
              "    </tr>\n",
              "    <tr>\n",
              "      <th>Santa Cruz</th>\n",
              "      <td>426</td>\n",
              "    </tr>\n",
              "    <tr>\n",
              "      <th>Inyo</th>\n",
              "      <td>420</td>\n",
              "    </tr>\n",
              "    <tr>\n",
              "      <th>Butte</th>\n",
              "      <td>379</td>\n",
              "    </tr>\n",
              "    <tr>\n",
              "      <th>Siskiyou</th>\n",
              "      <td>359</td>\n",
              "    </tr>\n",
              "    <tr>\n",
              "      <th>Sutter</th>\n",
              "      <td>303</td>\n",
              "    </tr>\n",
              "    <tr>\n",
              "      <th>San Luis Obispo</th>\n",
              "      <td>292</td>\n",
              "    </tr>\n",
              "    <tr>\n",
              "      <th>Nevada</th>\n",
              "      <td>252</td>\n",
              "    </tr>\n",
              "    <tr>\n",
              "      <th>Monterey</th>\n",
              "      <td>250</td>\n",
              "    </tr>\n",
              "    <tr>\n",
              "      <th>Madera</th>\n",
              "      <td>250</td>\n",
              "    </tr>\n",
              "    <tr>\n",
              "      <th>Fresno</th>\n",
              "      <td>249</td>\n",
              "    </tr>\n",
              "    <tr>\n",
              "      <th>Los Angeles</th>\n",
              "      <td>225</td>\n",
              "    </tr>\n",
              "    <tr>\n",
              "      <th>Placer</th>\n",
              "      <td>222</td>\n",
              "    </tr>\n",
              "    <tr>\n",
              "      <th>Del Norte</th>\n",
              "      <td>220</td>\n",
              "    </tr>\n",
              "    <tr>\n",
              "      <th>Alameda</th>\n",
              "      <td>218</td>\n",
              "    </tr>\n",
              "    <tr>\n",
              "      <th>Kern</th>\n",
              "      <td>210</td>\n",
              "    </tr>\n",
              "    <tr>\n",
              "      <th>Marin</th>\n",
              "      <td>206</td>\n",
              "    </tr>\n",
              "    <tr>\n",
              "      <th>Solano</th>\n",
              "      <td>204</td>\n",
              "    </tr>\n",
              "    <tr>\n",
              "      <th>Sacramento</th>\n",
              "      <td>200</td>\n",
              "    </tr>\n",
              "    <tr>\n",
              "      <th>Tulare</th>\n",
              "      <td>200</td>\n",
              "    </tr>\n",
              "    <tr>\n",
              "      <th>Napa</th>\n",
              "      <td>199</td>\n",
              "    </tr>\n",
              "    <tr>\n",
              "      <th>San Francisco</th>\n",
              "      <td>198</td>\n",
              "    </tr>\n",
              "    <tr>\n",
              "      <th>Kings</th>\n",
              "      <td>198</td>\n",
              "    </tr>\n",
              "    <tr>\n",
              "      <th>Colusa</th>\n",
              "      <td>198</td>\n",
              "    </tr>\n",
              "    <tr>\n",
              "      <th>Glenn</th>\n",
              "      <td>197</td>\n",
              "    </tr>\n",
              "    <tr>\n",
              "      <th>Contra Costa</th>\n",
              "      <td>197</td>\n",
              "    </tr>\n",
              "    <tr>\n",
              "      <th>Tehama</th>\n",
              "      <td>196</td>\n",
              "    </tr>\n",
              "    <tr>\n",
              "      <th>San Joaquin</th>\n",
              "      <td>195</td>\n",
              "    </tr>\n",
              "    <tr>\n",
              "      <th>Trinity</th>\n",
              "      <td>193</td>\n",
              "    </tr>\n",
              "    <tr>\n",
              "      <th>Yolo</th>\n",
              "      <td>192</td>\n",
              "    </tr>\n",
              "    <tr>\n",
              "      <th>Calaveras</th>\n",
              "      <td>192</td>\n",
              "    </tr>\n",
              "    <tr>\n",
              "      <th>Sonoma</th>\n",
              "      <td>187</td>\n",
              "    </tr>\n",
              "    <tr>\n",
              "      <th>San Mateo</th>\n",
              "      <td>186</td>\n",
              "    </tr>\n",
              "    <tr>\n",
              "      <th>Santa Clara</th>\n",
              "      <td>186</td>\n",
              "    </tr>\n",
              "    <tr>\n",
              "      <th>Stanislaus</th>\n",
              "      <td>184</td>\n",
              "    </tr>\n",
              "    <tr>\n",
              "      <th>Merced</th>\n",
              "      <td>183</td>\n",
              "    </tr>\n",
              "    <tr>\n",
              "      <th>Lake</th>\n",
              "      <td>180</td>\n",
              "    </tr>\n",
              "    <tr>\n",
              "      <th>San Diego</th>\n",
              "      <td>172</td>\n",
              "    </tr>\n",
              "    <tr>\n",
              "      <th>Santa Barbara</th>\n",
              "      <td>168</td>\n",
              "    </tr>\n",
              "    <tr>\n",
              "      <th>San Benito</th>\n",
              "      <td>168</td>\n",
              "    </tr>\n",
              "    <tr>\n",
              "      <th>Shasta</th>\n",
              "      <td>166</td>\n",
              "    </tr>\n",
              "    <tr>\n",
              "      <th>San Bernardino</th>\n",
              "      <td>161</td>\n",
              "    </tr>\n",
              "    <tr>\n",
              "      <th>El Dorado</th>\n",
              "      <td>158</td>\n",
              "    </tr>\n",
              "    <tr>\n",
              "      <th>Riverside</th>\n",
              "      <td>156</td>\n",
              "    </tr>\n",
              "    <tr>\n",
              "      <th>Orange</th>\n",
              "      <td>156</td>\n",
              "    </tr>\n",
              "    <tr>\n",
              "      <th>Ventura</th>\n",
              "      <td>153</td>\n",
              "    </tr>\n",
              "    <tr>\n",
              "      <th>Imperial</th>\n",
              "      <td>127</td>\n",
              "    </tr>\n",
              "    <tr>\n",
              "      <th>Humboldt</th>\n",
              "      <td>109</td>\n",
              "    </tr>\n",
              "  </tbody>\n",
              "</table>\n",
              "</div><br><label><b>dtype:</b> int64</label>"
            ]
          },
          "metadata": {},
          "execution_count": 26
        }
      ],
      "source": [
        "counties = df.groupby('COUNTY')['AQI'].max().sort_values(ascending=False)\n",
        "counties"
      ]
    },
    {
      "cell_type": "markdown",
      "metadata": {
        "id": "t5G647PCp76L"
      },
      "source": [
        "Which county had the highest maximum AQI value? Which county had the lowest? store the names of these counties as varables called \"highest\" and \"lowest\", shown below:"
      ]
    },
    {
      "cell_type": "code",
      "execution_count": 12,
      "metadata": {
        "id": "CiGZhFDNqD-W"
      },
      "outputs": [],
      "source": [
        "highest=''\n",
        "lowest=''\n",
        "\n",
        "# Filter the county-level daily AQI readings for the worst-affected county\n",
        "worst_county=county_daily[county_daily['COUNTY']==highest]\n",
        "\n",
        "# Filter the county-level daily AQI readings for the least-affected county\n",
        "best_county=county_daily[county_daily['COUNTY']==lowest]"
      ]
    },
    {
      "cell_type": "markdown",
      "metadata": {
        "id": "w3hO0ZYrsmGk"
      },
      "source": [
        "Using those two variables, lets plot the AQI values for each of these counties individually:"
      ]
    },
    {
      "cell_type": "code",
      "execution_count": 13,
      "metadata": {
        "colab": {
          "base_uri": "https://localhost:8080/",
          "height": 736
        },
        "id": "heQT9nIHCcXD",
        "outputId": "a48ce6f3-8083-4a88-b7f9-cc8090029e48"
      },
      "outputs": [
        {
          "output_type": "execute_result",
          "data": {
            "text/plain": [
              "<matplotlib.legend.Legend at 0x7dab39036950>"
            ]
          },
          "metadata": {},
          "execution_count": 13
        },
        {
          "output_type": "display_data",
          "data": {
            "text/plain": [
              "<Figure size 1000x800 with 1 Axes>"
            ],
            "image/png": "[encoded data removed]"
          },
          "metadata": {}
        }
      ],
      "source": [
        "# plot the data from the worst affected county\n",
        "plt.plot(worst_county['Day'], worst_county['AQI'], label=highest)\n",
        "\n",
        "# plot the data from the least affected county\n",
        "plt.plot(best_county['Day'], best_county['AQI'], label=lowest)\n",
        "\n",
        "#add title and axis labels\n",
        "plt.title('Daily Air Quality Index readings in California, 2020')\n",
        "plt.ylabel('AQI')\n",
        "plt.xlabel('Day of Year')\n",
        "\n",
        "# add a dashed black line on August 18th (the 231st day of the year)\n",
        "plt.axvline(231, color='black', linestyle='--', label='State of Emergency')\n",
        "plt.legend()"
      ]
    },
    {
      "cell_type": "markdown",
      "metadata": {
        "id": "QG59Z2oUtKdd"
      },
      "source": [
        "We can see that the worst affected county suffered a massive spike in AQI following the wildfires, while the least affected county experienced a much smaller increase in AQI."
      ]
    },
    {
      "cell_type": "markdown",
      "metadata": {
        "id": "iY-Spc41t2E3"
      },
      "source": [
        "## Bringing in Geography\n",
        "\n",
        "We can explore some limited geographic variation using the \"COUNTY\" column in our dataframe. But we actually have the latitude and longitude of each individual sensor. We can visualize latitude and longitude data quite simply as a scatterplot.\n",
        "\n",
        "Remember, in our original dataframe each row is a reading from a given sensor on a given day. The sensor's location does not vary over time, so if we simply plot our original dataframe, we'll have loads of points on top of each other. Let's pick a specific date, take a slice of our dataframe on that one date, and plot it. I've picked September 9th based on the plots above (looks like air quality was really bad)."
      ]
    },
    {
      "cell_type": "code",
      "execution_count": 14,
      "metadata": {
        "colab": {
          "base_uri": "https://localhost:8080/",
          "height": 736
        },
        "id": "5Mwp_WIRM1xy",
        "outputId": "ac9eca56-297c-4cc0-ae2e-80ad4425bf5c"
      },
      "outputs": [
        {
          "output_type": "execute_result",
          "data": {
            "text/plain": [
              "Text(0.5, 1.0, 'Geographic Distribution of AQI sensors in California')"
            ]
          },
          "metadata": {},
          "execution_count": 14
        },
        {
          "output_type": "display_data",
          "data": {
            "text/plain": [
              "<Figure size 1000x800 with 1 Axes>"
            ],
            "image/png": "[encoded data removed]"
          },
          "metadata": {}
        }
      ],
      "source": [
        "# create a variable with the date of interest, September 9th 2020.\n",
        "date='09-09-2020'\n",
        "\n",
        "# filter the original dataframe using this date\n",
        "one_day=df[df['Date']==date]\n",
        "\n",
        "# create a scatterplot of sensor locations using latitude and longitude\n",
        "plt.scatter(\n",
        "    x=one_day['longitude'],\n",
        "    y=one_day['latitude'])\n",
        "\n",
        "# as always, label our axes and the plot!\n",
        "plt.xlabel(\"Longitude\")\n",
        "plt.ylabel(\"Latitude\")\n",
        "plt.title(\"Geographic Distribution of AQI sensors in California\")"
      ]
    },
    {
      "cell_type": "markdown",
      "metadata": {
        "id": "GgyzfdrMvBI6"
      },
      "source": [
        "If you close your eyes and imagine the shape of California, you can probably see its outline roughly traced in the points above. This plot leaves a number of things to be desired.\n",
        "\n",
        "### Basemaps\n",
        "\n",
        "First, we may want to add in a base map of some kind so we can have a better sense of where each sensor is. For this, we have to import an extra library called \"Basemap\""
      ]
    },
    {
      "cell_type": "code",
      "execution_count": 15,
      "metadata": {
        "colab": {
          "base_uri": "https://localhost:8080/",
          "height": 693
        },
        "id": "HsnO-aII0MZg",
        "outputId": "2a88cff3-be02-4433-c734-5d0cea306663"
      },
      "outputs": [
        {
          "output_type": "execute_result",
          "data": {
            "text/plain": [
              "Text(0.5, 1.0, 'Geographic Distribution of AQI sensors in California')"
            ]
          },
          "metadata": {},
          "execution_count": 15
        },
        {
          "output_type": "display_data",
          "data": {
            "text/plain": [
              "<Figure size 1000x800 with 1 Axes>"
            ],
            "image/png": "[encoded data removed]"
          },
          "metadata": {}
        }
      ],
      "source": [
        "# import Basemap library\n",
        "from mpl_toolkits.basemap import Basemap\n",
        "\n",
        "# create a basemap, call it 'map'\n",
        "map = Basemap(projection='lcc', resolution='l', # this selects the projection of the map.\n",
        "            lat_0=37.5, lon_0=-119, # this sets the center of the map\n",
        "            width=1E6, height=1.2E6) # this sets the window that we're looking at, in meters.\n",
        "\n",
        "# We can add features to our blank basemap, including coastlines, as well as state and country boundaries.\n",
        "map.drawcoastlines(color='black')\n",
        "map.drawcountries(color='black')\n",
        "map.drawstates(color='gray')\n",
        "\n",
        "# Finally, we add in our AQI sensor data on top of the basemap.\n",
        "map.scatter(\n",
        "    one_day['longitude'],\n",
        "    one_day['latitude'],\n",
        "    latlon=True)\n",
        "\n",
        "# as always, title your figure\n",
        "plt.title(\"Geographic Distribution of AQI sensors in California\")\n"
      ]
    },
    {
      "cell_type": "markdown",
      "metadata": {
        "id": "rlaY4k7E2pXi"
      },
      "source": [
        "That's looking a bit better! We now have a much better sense of the actual distribution of these sensors within california. People who know the area will recognize clusters of sensors around San Francisco and Los Angeles; This makes sense, given that these areas have a higher population density. However, our plot is still missing some pretty important information: the actual AQI readings!\n",
        "\n",
        "### Colormaps\n",
        "\n",
        "The whole point of plotting these sensors is to understand the spatial distribution of air pollution from the 2020 wildfires."
      ]
    },
    {
      "cell_type": "markdown",
      "metadata": {
        "id": "HnwnddrWv-Qp"
      },
      "source": [
        "The EPA published the following [table](https://www.airnow.gov/aqi/aqi-basics/) on their website, which creates a color-coded scale of AQI values that corresponds to the impact thereof on human health.\n",
        "\n",
        "- AQI under 50 is colored green, and indicates \"Good\" air quality.\n",
        "- AQI between 100 and 200 is generally unhealthy\n",
        "- AQI over 300 is deemed hazardous.\n",
        "\n",
        "With this in mind, quickly scroll back up to the AQI plots over time. If you did everything correctly, you should notice that the *average* AQI value across all sensors in the worst affected county was over 600!\n",
        "\n",
        "We'll be using the table from the EPA website to build our own color map. In the code below, I scrape the table and turn it into a \"colormap\" (basically, a dictionary that associates numbers with colors) that we'll use to color the AQI sensors later."
      ]
    },
    {
      "cell_type": "code",
      "execution_count": 16,
      "metadata": {
        "colab": {
          "base_uri": "https://localhost:8080/"
        },
        "id": "u_srXcvBR4qm",
        "outputId": "b7dcc2e1-39a9-47f2-c20d-03cdfc2f3b74"
      },
      "outputs": [
        {
          "output_type": "stream",
          "name": "stdout",
          "text": [
            "   aqi Daily AQI Color               Levels of Concern\n",
            "0    0           Green                            Good\n",
            "1   51          Yellow                        Moderate\n",
            "2  101          Orange  Unhealthy for Sensitive Groups\n",
            "3  151             Red                       Unhealthy\n",
            "4  201          Purple                  Very Unhealthy\n",
            "5  301          Maroon                       Hazardous\n"
          ]
        }
      ],
      "source": [
        "# scrape the table of AQI values and corresponding colors\n",
        "# save it as a dataframe called colors\n",
        "colors=pd.read_html('https://www.airnow.gov/aqi/aqi-basics/')[0]\n",
        "\n",
        "# create a numerical column for AQI values by splitting the test in the \"values of index\" column.\n",
        "# pull out the first string, and convert it to integer\n",
        "colors['aqi']=colors['Values of Index'].str.split(' ').str[0].astype(int)\n",
        "\n",
        "# print three columns from the dataframe\n",
        "print(colors[['aqi','Daily AQI Color','Levels of Concern']])\n",
        "\n",
        "# create a \"colormap\" from this dataframe using the \"Daily AQI Color\" column, and the \"aqi\" column\n",
        "aqi_colors=matplotlib.colors.LinearSegmentedColormap.from_list(colors['aqi'],colors['Daily AQI Color'])"
      ]
    },
    {
      "cell_type": "markdown",
      "metadata": {
        "id": "o4b2yhL94Rdq"
      },
      "source": [
        "Now, we can use this \"aqi_colors\" object as a color palette later when we plot the AQI sensors. This way, we will know that green and yellow points are OK, while red and purple points represent hazardous levels of air pollution. I've annotated the code above, but it's ok if you don't get all of it. You could simply load a different colormap in one line of code; check out the documentation [here](https://matplotlib.org/stable/tutorials/colors/colormaps.html)."
      ]
    },
    {
      "cell_type": "code",
      "execution_count": 17,
      "metadata": {
        "colab": {
          "base_uri": "https://localhost:8080/",
          "height": 683
        },
        "id": "KAhoFnTwBCEB",
        "outputId": "554cf902-2030-4b95-f00a-50f077f45c00"
      },
      "outputs": [
        {
          "output_type": "display_data",
          "data": {
            "text/plain": [
              "<Figure size 1000x800 with 2 Axes>"
            ],
            "image/png": "[encoded data removed]"
          },
          "metadata": {}
        }
      ],
      "source": [
        "map = Basemap(projection='lcc', resolution='l',\n",
        "            lat_0=37.5, lon_0=-119,\n",
        "            width=1E6, height=1.2E6)\n",
        "\n",
        "map.drawcoastlines(color='black')\n",
        "map.drawcountries(color='black')\n",
        "map.drawstates(color='gray')\n",
        "\n",
        "map.scatter(\n",
        "      one_day['longitude'],\n",
        "      one_day['latitude'],\n",
        "      latlon=True,\n",
        "      c=one_day['AQI'], # We're adding that\n",
        "      cmap=aqi_colors,\n",
        "      vmin=0,\n",
        "      vmax=300)\n",
        "\n",
        "\n",
        "plt.title('Air Quality on September 9th, 2020')\n",
        "plt.colorbar(label='Air Quality Index');"
      ]
    },
    {
      "cell_type": "markdown",
      "metadata": {
        "id": "GR8xWg2yojZx"
      },
      "source": [
        "This plot gives us a good sense of which areas were worst affected by the wildfires on September 9th, 2020. Areas in the central valley suffered particularly bad air quality, with AQI reaching hazardous levels in some areas.\n",
        "\n",
        "### Exercise\n",
        "\n",
        "So far, we've been plotting data from one day, using a dataframe we generated by filtering the date column like so: `one_day=df[df['Date']=='09-09-2020']` (date format is day-month-year).\n",
        "\n",
        "Using the code from the previous cell, generate a plot of AQI on March 2nd, 2020. After that, use the groupby function to generate a plot of the maximum AQI reading for each sensor and plot it."
      ]
    },
    {
      "cell_type": "code",
      "execution_count": null,
      "metadata": {
        "id": "Rk5UEgvBpQKY"
      },
      "outputs": [],
      "source": []
    },
    {
      "cell_type": "markdown",
      "metadata": {
        "id": "tJ5lQ_tAoD3C"
      },
      "source": [
        "If you've followed along this far, well done! we've come a long way from a spreadsheet full of sensor readings. But we can go even further!\n",
        "\n",
        "## Advanced: Satellite Imagery and Interactivity\n",
        "\n",
        "The AQI plots we've generated above give us a good sense of where the worst air pollution was on a given day; but we're still basically *inferring* the presence of fires. Luckily, we don't have to do that. The plumes of smoke generated by the fires were so vast that they were visible from space. There are a variety of satellites that image the earth each day (some, like GOES-17, take a picture every few minutes!).\n",
        "\n",
        "NASA's Moderate Resolution Imaging Spectroradiometer (MODIS) satellites take a picture of the same spot on earth nearly every day. So far, we've been looking at September 9th as a particularly bad day for air quality in California. Let's have a look at a satellite image from that day. A Python library called ipyleaflet contains some useful functions that let us pull up an interactive map of satellite imagery."
      ]
    },
    {
      "cell_type": "code",
      "execution_count": 20,
      "metadata": {
        "colab": {
          "base_uri": "https://localhost:8080/",
          "height": 721,
          "referenced_widgets": [
            "842a8bf8e0f84bc3b8366772ea091d09",
            "9263a439fd264fd182276f3425a87f04",
            "05054844a99f433a95aaaaebb8fec8e6",
            "42395c0fccd24e80806f63c9a1a1dab9",
            "2ccf8701d9b44bef92beb4ca78adb1c9",
            "25a97969f95640f6aa0c8d17efd4b1d3",
            "1a0dd1db91b14d5993f03f2c814a2403",
            "7e45ae1ed6364ac28b514858172a7ed8"
          ]
        },
        "id": "ODtN3RzS7mTO",
        "outputId": "0509c125-b016-45a5-dbda-3466a6bf1f6f"
      },
      "outputs": [
        {
          "output_type": "display_data",
          "data": {
            "text/plain": [
              "Map(center=[36.77, -119.41], controls=(ZoomControl(options=['position', 'zoom_in_text', 'zoom_in_title', 'zoom…"
            ],
            "application/vnd.jupyter.widget-view+json": {
              "version_major": 2,
              "version_minor": 0,
              "model_id": "842a8bf8e0f84bc3b8366772ea091d09"
            }
          },
          "metadata": {
            "application/vnd.jupyter.widget-view+json": {
              "colab": {
                "custom_widget_manager": {
                  "url": "https://ssl.gstatic.com/colaboratory-static/widgets/colab-cdn-widget-manager/2b70e893a8ba7c0f/manager.min.js"
                }
              }
            }
          }
        }
      ],
      "source": [
        "# import the map making modules from ipyleaflet\n",
        "from ipyleaflet import Map, Marker, basemaps, basemap_to_tiles,Circle\n",
        "from ipywidgets import HTML\n",
        "\n",
        "# let create an interactive Map object called \"satellite_map\"\n",
        "satellite_map = Map(\n",
        "  basemap=basemap_to_tiles( #this function lets us pick from a list of basemaps for our interactive map\n",
        "    basemaps.NASAGIBS.ModisTerraTrueColorCR, \"2020-09-09\" # here we're specifying that we want MODIS imagery, and the date that we want it from\n",
        "  ),\n",
        "  center=(36.77, -119.41), # then, we want to center the map on california. these coordinates do that\n",
        "  zoom=5, #finally, we want to set the zoom level of the map.\n",
        ")\n",
        "\n",
        "# once we've created the map object we can make it bigger or smaller. let's make it 700 pixels tall.\n",
        "satellite_map.layout.height = '700px'\n",
        "\n",
        "# now, we visualize it.\n",
        "satellite_map"
      ]
    },
    {
      "cell_type": "markdown",
      "metadata": {
        "id": "3jPv5Co7xBfZ"
      },
      "source": [
        "This is a pretty striking image of the West Coast of the U.S. We can see fluffy white clouds to the East and West, but in the center of the map plumes of brown smoke emanate from wildfires in California and Oregon. Use the + - keys in the top left to zoom in, see if you can spot some wildfires.\n",
        "\n",
        "### Exercise\n",
        "\n",
        "Try changing the code in the cell above to display an image from September 15th. You could even try importing a different basemap (like nighttime lights) using this [list of basemaps](https://ipyleaflet.readthedocs.io/en/latest/map_and_basemaps/basemaps.html)."
      ]
    },
    {
      "cell_type": "code",
      "execution_count": 21,
      "metadata": {
        "id": "ks1pMWnwrZuM",
        "outputId": "33e4aa69-e02d-4b80-ee61-4f96c0ee393b",
        "colab": {
          "base_uri": "https://localhost:8080/",
          "height": 144
        }
      },
      "outputs": [
        {
          "output_type": "error",
          "ename": "TypeError",
          "evalue": "'Map' object is not callable",
          "traceback": [
            "\u001b[0;31m---------------------------------------------------------------------------\u001b[0m",
            "\u001b[0;31mTypeError\u001b[0m                                 Traceback (most recent call last)",
            "\u001b[0;32m<ipython-input-21-9983dfca567b>\u001b[0m in \u001b[0;36m<cell line: 1>\u001b[0;34m()\u001b[0m\n\u001b[0;32m----> 1\u001b[0;31m \u001b[0msatellite_map\u001b[0m\u001b[0;34m(\u001b[0m\u001b[0;34m'09-15-2020'\u001b[0m\u001b[0;34m)\u001b[0m\u001b[0;34m\u001b[0m\u001b[0;34m\u001b[0m\u001b[0m\n\u001b[0m",
            "\u001b[0;31mTypeError\u001b[0m: 'Map' object is not callable"
          ]
        }
      ],
      "source": [
        "satellite_map('09-15-2020')\n"
      ]
    },
    {
      "cell_type": "markdown",
      "metadata": {
        "id": "soBfBHT7rabc"
      },
      "source": [
        "## Combining sensors and satellite images\n",
        "\n",
        "A cool part of working with spatial data is that we can combine two completeley different datasets using spatial information. We can add the AQI sensor data as points to this map."
      ]
    },
    {
      "cell_type": "code",
      "execution_count": null,
      "metadata": {
        "id": "oXoox6k4xa9x"
      },
      "outputs": [],
      "source": [
        "# grab the first row from our September 9th dataframe\n",
        "row=one_day.iloc[0]\n",
        "print(row)\n",
        "\n",
        "# This part uses the AQI value in this row (72), and looks up the corresponding color in the colormap we created earlier\n",
        "color=matplotlib.colors.rgb2hex(aqi_colors(row['AQI']))\n",
        "\n",
        "# Now we create a Circle object using the latitude and longitude from the row, and color it using the color we just selected\n",
        "point=Circle(location=(row['latitude'],row['longitude']), color=color)\n",
        "\n",
        "# Add this as a layer to the satellite_map object\n",
        "satellite_map.add_layer(point)\n",
        "\n",
        "# Display the updated map\n",
        "satellite_map\n"
      ]
    },
    {
      "cell_type": "markdown",
      "metadata": {
        "id": "PtBUwL15tzrc"
      },
      "source": [
        "It's a bit hard to see, but we've plotted an AQI sensor! its under the cloud of smoke in the center of the map. You can zoom in to get a closer look. looks like AQI was pretty bad at this location.\n",
        "\n",
        "Having plotted one point, we can now plot all the points on September 9th! to do so, we can use the `iterrows` function in Pandas which, suprisingly, lets you iterate over rows in a dataframe. The first line of code below allows us to iterate over the rows in the `one_day` dataframe. It will then run everything in the indented block for each row; in other words, for each row, it will:\n",
        "\n",
        "  1. use the row's value in the AQI value to select a color for the point\n",
        "  2. create a point object using the latitude and longitude columns\n",
        "  3. add that point to the satellite map.\n",
        "\n"
      ]
    },
    {
      "cell_type": "code",
      "execution_count": null,
      "metadata": {
        "id": "znxAhhrmn84a"
      },
      "outputs": [],
      "source": [
        "for index, row in one_day.iterrows():\n",
        "  color=matplotlib.colors.rgb2hex(aqi_colors(row['AQI']))\n",
        "  point=Circle(location=(row['latitude'],row['longitude']), color=color)\n",
        "  satellite_map.add_layer(point)\n",
        "\n",
        "# display the map\n",
        "satellite_map"
      ]
    },
    {
      "cell_type": "markdown",
      "metadata": {
        "id": "BPQZtXRBvoHJ"
      },
      "source": [
        "Theres a pretty striking trend in this data. If you zoom in, you'll see that the AQI sensors to the East are all green since they are up-wind from the fires. A few kilometers downwind of the fires, the AQI sensors display very high readings. Remember, our AQI data and the satellite imagery are derived from totally different sources, and are totally different types of data, but they seem to be telling us the same story. They actually complement each other in important ways. In our original plot of the AQI sensors without satellite imagery, we could tell that there was bad air quality on September 9th, but some sensors were green and others were red. The satellite image shows us that the variation in AQI across California on September 9th was due to the direction of the wind, blowing the smoke from the wildfires westward."
      ]
    },
    {
      "cell_type": "markdown",
      "metadata": {
        "id": "Y1NHvaSsvLXh"
      },
      "source": [
        "## Extension\n",
        "\n",
        "Now, to save some hassle we can package all the code we used to generate this map into one clean function. Because we're effectively just changing the date, we can configure this function so that we can feed it a different date, and it will grab a satellite image and filter our dataframe for values occuring on that day. Then, we can draw a new map in one line of code."
      ]
    },
    {
      "cell_type": "code",
      "execution_count": null,
      "metadata": {
        "id": "kHJ2INVmDK0K"
      },
      "outputs": [],
      "source": [
        "def satellite_plot(date):\n",
        "\n",
        "  ymd=datetime.strptime(date, '%d-%m-%Y').strftime('%Y-%m-%d')\n",
        "\n",
        "  satellite_map = Map(\n",
        "    basemap=basemap_to_tiles(\n",
        "      basemaps.NASAGIBS.ModisTerraTrueColorCR, ymd\n",
        "    ),\n",
        "    center=(36.77, -119.41),\n",
        "    zoom=6,\n",
        "  )\n",
        "\n",
        "  satellite_map.layout.height = '700px'\n",
        "\n",
        "  one_day=df[df['Date']==date]\n",
        "\n",
        "  for index, row in one_day.iterrows():\n",
        "    color=matplotlib.colors.rgb2hex(aqi_colors(row['AQI']))\n",
        "    point=Circle(location=(row['latitude'],row['longitude']), color=color)\n",
        "    point.popup = HTML(str(row['Site Name']))\n",
        "    satellite_map.add_layer(point)\n",
        "  return satellite_map"
      ]
    },
    {
      "cell_type": "markdown",
      "metadata": {
        "id": "qdCesPNc9hQK"
      },
      "source": [
        "Now, we can simply change the date in the function and view both satellite imagery and AQI sensor data from a given day. Look at this clear day from February 3rd."
      ]
    },
    {
      "cell_type": "code",
      "execution_count": null,
      "metadata": {
        "id": "8Fj7NexYDHq2"
      },
      "outputs": [],
      "source": [
        "satellite_plot('02-03-2020')"
      ]
    },
    {
      "cell_type": "markdown",
      "metadata": {
        "id": "buQATwoJ_MT3"
      },
      "source": [
        "All the AQI sensors are showing green values, indicating generally good air quality. The satellite image shows a few wispy clouds, but no thick yellow smoke. Now change the date to September 15th, and see what happens!"
      ]
    },
    {
      "cell_type": "code",
      "execution_count": null,
      "metadata": {
        "id": "o1A4_qH2_RkD"
      },
      "outputs": [],
      "source": [
        "satellite_plot('02-03-2020')\n"
      ]
    },
    {
      "cell_type": "markdown",
      "metadata": {
        "id": "eR7qyRG2Uo7M"
      },
      "source": [
        "# Assessed Question\n",
        "\n",
        "Earlier, we created a dataframe called `daily` in which we calculated the average daily AQI across the state for every day of the year. (hint: try re-generating this dataframe using the `Date` column rather than the `Day` column in the `.groupby()` function)\n",
        "\n",
        "1. Sort that dataframe to figure out which day had the **second worst** AQI.\n",
        "2. Plug that date into the `satellite_plot()` function to visualize the corresponding satellite image. If you've done things correctly so far, you should see a big plume of smoke emanating from the mountains of california spreading northwards.\n",
        "3. Clicking on a sensor will reveal its name-- which sensor is closest to the plume's origin?"
      ]
    },
    {
      "cell_type": "code",
      "execution_count": null,
      "metadata": {
        "id": "rUuN36K0Uo7N"
      },
      "outputs": [],
      "source": [
        "daily=df.groupby('Date')['AQI'].max()\n",
        "daily = daily.sort_values(ascending=False)\n",
        "print(daily)\n",
        "satellite_plot('14-09-2020')"
      ]
    }
  ],
  "metadata": {
    "colab": {
      "provenance": [],
      "include_colab_link": true
    },
    "kernelspec": {
      "display_name": "geo",
      "language": "python",
      "name": "python3"
    },
    "language_info": {
      "codemirror_mode": {
        "name": "ipython",
        "version": 3
      },
      "file_extension": ".py",
      "mimetype": "text/x-python",
      "name": "python",
      "nbconvert_exporter": "python",
      "pygments_lexer": "ipython3",
      "version": "3.9.18"
    },
    "widgets": {
      "application/vnd.jupyter.widget-state+json": {
        "842a8bf8e0f84bc3b8366772ea091d09": {
          "model_module": "jupyter-leaflet",
          "model_name": "LeafletMapModel",
          "model_module_version": "^0.19",
          "state": {
            "_dom_classes": [],
            "_model_module": "jupyter-leaflet",
            "_model_module_version": "^0.19",
            "_model_name": "LeafletMapModel",
            "_view_count": null,
            "_view_module": "jupyter-leaflet",
            "_view_module_version": "^0.19",
            "_view_name": "LeafletMapView",
            "bottom": 3545,
            "bounce_at_zoom_limits": true,
            "box_zoom": true,
            "center": [
              36.77,
              -119.41
            ],
            "close_popup_on_click": true,
            "controls": [
              "IPY_MODEL_9263a439fd264fd182276f3425a87f04",
              "IPY_MODEL_05054844a99f433a95aaaaebb8fec8e6"
            ],
            "crs": {
              "name": "EPSG3857",
              "custom": false
            },
            "default_style": "IPY_MODEL_42395c0fccd24e80806f63c9a1a1dab9",
            "double_click_zoom": true,
            "dragging": true,
            "dragging_style": "IPY_MODEL_2ccf8701d9b44bef92beb4ca78adb1c9",
            "east": -90.26367187500001,
            "fullscreen": false,
            "inertia": true,
            "inertia_deceleration": 3000,
            "inertia_max_speed": 1500,
            "interpolation": "bilinear",
            "keyboard": true,
            "keyboard_pan_offset": 80,
            "keyboard_zoom_offset": 1,
            "layers": [
              "IPY_MODEL_25a97969f95640f6aa0c8d17efd4b1d3"
            ],
            "layout": "IPY_MODEL_1a0dd1db91b14d5993f03f2c814a2403",
            "left": 716,
            "max_zoom": null,
            "min_zoom": null,
            "modisdate": "2024-12-09",
            "north": 48.07807894349862,
            "options": [
              "bounce_at_zoom_limits",
              "box_zoom",
              "center",
              "close_popup_on_click",
              "double_click_zoom",
              "dragging",
              "fullscreen",
              "inertia",
              "inertia_deceleration",
              "inertia_max_speed",
              "interpolation",
              "keyboard",
              "keyboard_pan_offset",
              "keyboard_zoom_offset",
              "max_zoom",
              "min_zoom",
              "prefer_canvas",
              "scroll_wheel_zoom",
              "tap",
              "tap_tolerance",
              "touch_zoom",
              "world_copy_jump",
              "zoom",
              "zoom_animation_threshold",
              "zoom_delta",
              "zoom_snap"
            ],
            "panes": {},
            "prefer_canvas": false,
            "right": 2042,
            "scroll_wheel_zoom": false,
            "south": 23.523700058824144,
            "style": "IPY_MODEL_7e45ae1ed6364ac28b514858172a7ed8",
            "tap": true,
            "tap_tolerance": 15,
            "top": 2845,
            "touch_zoom": true,
            "west": -148.53515625000003,
            "window_url": "https://w6ecj2h51i-496ff2e9c6d22116-0-colab.googleusercontent.com/outputframe.html?vrz=colab_20241209-060127_RC00_704216477",
            "world_copy_jump": false,
            "zoom": 5,
            "zoom_animation_threshold": 4,
            "zoom_delta": 1,
            "zoom_snap": 1
          }
        },
        "9263a439fd264fd182276f3425a87f04": {
          "model_module": "jupyter-leaflet",
          "model_name": "LeafletZoomControlModel",
          "model_module_version": "^0.19",
          "state": {
            "_model_module": "jupyter-leaflet",
            "_model_module_version": "^0.19",
            "_model_name": "LeafletZoomControlModel",
            "_view_count": null,
            "_view_module": "jupyter-leaflet",
            "_view_module_version": "^0.19",
            "_view_name": "LeafletZoomControlView",
            "options": [
              "position",
              "zoom_in_text",
              "zoom_in_title",
              "zoom_out_text",
              "zoom_out_title"
            ],
            "position": "topleft",
            "zoom_in_text": "+",
            "zoom_in_title": "Zoom in",
            "zoom_out_text": "-",
            "zoom_out_title": "Zoom out"
          }
        },
        "05054844a99f433a95aaaaebb8fec8e6": {
          "model_module": "jupyter-leaflet",
          "model_name": "LeafletAttributionControlModel",
          "model_module_version": "^0.19",
          "state": {
            "_model_module": "jupyter-leaflet",
            "_model_module_version": "^0.19",
            "_model_name": "LeafletAttributionControlModel",
            "_view_count": null,
            "_view_module": "jupyter-leaflet",
            "_view_module_version": "^0.19",
            "_view_name": "LeafletAttributionControlView",
            "options": [
              "position",
              "prefix"
            ],
            "position": "bottomright",
            "prefix": "ipyleaflet"
          }
        },
        "42395c0fccd24e80806f63c9a1a1dab9": {
          "model_module": "jupyter-leaflet",
          "model_name": "LeafletMapStyleModel",
          "model_module_version": "^0.19",
          "state": {
            "_model_module": "jupyter-leaflet",
            "_model_module_version": "^0.19",
            "_model_name": "LeafletMapStyleModel",
            "_view_count": null,
            "_view_module": "@jupyter-widgets/base",
            "_view_module_version": "1.2.0",
            "_view_name": "StyleView",
            "cursor": "grab"
          }
        },
        "2ccf8701d9b44bef92beb4ca78adb1c9": {
          "model_module": "jupyter-leaflet",
          "model_name": "LeafletMapStyleModel",
          "model_module_version": "^0.19",
          "state": {
            "_model_module": "jupyter-leaflet",
            "_model_module_version": "^0.19",
            "_model_name": "LeafletMapStyleModel",
            "_view_count": null,
            "_view_module": "@jupyter-widgets/base",
            "_view_module_version": "1.2.0",
            "_view_name": "StyleView",
            "cursor": "move"
          }
        },
        "25a97969f95640f6aa0c8d17efd4b1d3": {
          "model_module": "jupyter-leaflet",
          "model_name": "LeafletTileLayerModel",
          "model_module_version": "^0.19",
          "state": {
            "_model_module": "jupyter-leaflet",
            "_model_module_version": "^0.19",
            "_model_name": "LeafletTileLayerModel",
            "_view_count": null,
            "_view_module": "jupyter-leaflet",
            "_view_module_version": "^0.19",
            "_view_name": "LeafletTileLayerView",
            "attribution": "Imagery provided by services from the Global Imagery Browse Services (GIBS), operated by the NASA/GSFC/Earth Science Data and Information System (<a href=\"https://earthdata.nasa.gov\">ESDIS</a>) with funding provided by NASA/HQ.",
            "base": true,
            "bottom": true,
            "bounds": null,
            "detect_retina": false,
            "loading": false,
            "max_native_zoom": null,
            "max_zoom": 9,
            "min_native_zoom": null,
            "min_zoom": 1,
            "name": "NASAGIBS.ModisTerraTrueColorCR",
            "no_wrap": false,
            "opacity": 1,
            "options": [
              "attribution",
              "bounds",
              "detect_retina",
              "max_native_zoom",
              "max_zoom",
              "min_native_zoom",
              "min_zoom",
              "no_wrap",
              "tile_size",
              "tms",
              "zoom_offset"
            ],
            "pane": "",
            "popup": null,
            "popup_max_height": null,
            "popup_max_width": 300,
            "popup_min_width": 50,
            "show_loading": false,
            "subitems": [],
            "tile_size": 256,
            "tms": false,
            "url": "https://map1.vis.earthdata.nasa.gov/wmts-webmerc/MODIS_Terra_CorrectedReflectance_TrueColor/default/2020-09-09/GoogleMapsCompatible_Level9/{z}/{y}/{x}.jpg",
            "visible": true,
            "zoom_offset": 0
          }
        },
        "1a0dd1db91b14d5993f03f2c814a2403": {
          "model_module": "@jupyter-widgets/base",
          "model_name": "LayoutModel",
          "model_module_version": "1.2.0",
          "state": {
            "_model_module": "@jupyter-widgets/base",
            "_model_module_version": "1.2.0",
            "_model_name": "LayoutModel",
            "_view_count": null,
            "_view_module": "@jupyter-widgets/base",
            "_view_module_version": "1.2.0",
            "_view_name": "LayoutView",
            "align_content": null,
            "align_items": null,
            "align_self": null,
            "border": null,
            "bottom": null,
            "display": null,
            "flex": null,
            "flex_flow": null,
            "grid_area": null,
            "grid_auto_columns": null,
            "grid_auto_flow": null,
            "grid_auto_rows": null,
            "grid_column": null,
            "grid_gap": null,
            "grid_row": null,
            "grid_template_areas": null,
            "grid_template_columns": null,
            "grid_template_rows": null,
            "height": "700px",
            "justify_content": null,
            "justify_items": null,
            "left": null,
            "margin": null,
            "max_height": null,
            "max_width": null,
            "min_height": null,
            "min_width": null,
            "object_fit": null,
            "object_position": null,
            "order": null,
            "overflow": null,
            "overflow_x": null,
            "overflow_y": null,
            "padding": null,
            "right": null,
            "top": null,
            "visibility": null,
            "width": null
          }
        },
        "7e45ae1ed6364ac28b514858172a7ed8": {
          "model_module": "jupyter-leaflet",
          "model_name": "LeafletMapStyleModel",
          "model_module_version": "^0.19",
          "state": {
            "_model_module": "jupyter-leaflet",
            "_model_module_version": "^0.19",
            "_model_name": "LeafletMapStyleModel",
            "_view_count": null,
            "_view_module": "@jupyter-widgets/base",
            "_view_module_version": "1.2.0",
            "_view_name": "StyleView",
            "cursor": "grab"
          }
        }
      }
    }
  },
  "nbformat": 4,
  "nbformat_minor": 0
}